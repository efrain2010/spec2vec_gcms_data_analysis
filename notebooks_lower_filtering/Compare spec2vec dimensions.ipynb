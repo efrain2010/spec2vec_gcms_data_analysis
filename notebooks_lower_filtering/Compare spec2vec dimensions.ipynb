{
 "cells": [
  {
   "cell_type": "markdown",
   "metadata": {},
   "source": [
    "# Compare the different scores, cosines, spec2vec and Tanimoto\n",
    "\n",
    "To compute the differences of similarity algorithms the following filters were used:\n",
    "\n",
    "Filters:\n",
    "* normalize_intensities(s)\n",
    "* select_by_mz(s, mz_from=0, mz_to=1000)\n",
    "* select_by_relative_intensity(s, intensity_from=0.05, intensity_to=1.0)"
   ]
  },
  {
   "cell_type": "code",
   "execution_count": 33,
   "metadata": {},
   "outputs": [],
   "source": [
    "import os\n",
    "import sys\n",
    "\n",
    "ROOT = os.path.dirname(os.getcwd())\n",
    "path = os.path.join(os.path.dirname(os.getcwd()), \"data\")\n",
    "sys.path.insert(0, ROOT)"
   ]
  },
  {
   "cell_type": "markdown",
   "metadata": {},
   "source": [
    "## Importing Spec2vec Similarities\n",
    "\n",
    "### Spec2vec training model params:\n",
    "- documents=reference_documents\n",
    "- filename=model_file\n",
    "- size=400\n",
    "- iterations=[10, 20, 30]\n",
    "- workers=2\n",
    "\n",
    "### spec2vec reference model to compute differences\n",
    "- model_file = \"references_iter_10.model\""
   ]
  },
  {
   "cell_type": "code",
   "execution_count": 34,
   "metadata": {},
   "outputs": [],
   "source": [
    "import numpy as np \n",
    "\n",
    "filename = os.path.join(path, \"gcms_similarities_filter05_morgan3_2048_dice.npy\")\n",
    "matrix_similarities_tanimoto = np.load(filename)"
   ]
  },
  {
   "cell_type": "code",
   "execution_count": 35,
   "metadata": {},
   "outputs": [
    {
     "ename": "KeyboardInterrupt",
     "evalue": "",
     "output_type": "error",
     "traceback": [
      "\u001b[0;31m---------------------------------------------------------------------------\u001b[0m",
      "\u001b[0;31mKeyboardInterrupt\u001b[0m                         Traceback (most recent call last)",
      "\u001b[0;32m<ipython-input-35-a515c894d7df>\u001b[0m in \u001b[0;36m<module>\u001b[0;34m\u001b[0m\n\u001b[1;32m     10\u001b[0m \u001b[0mmatrix_similarities_spec2vec600\u001b[0m \u001b[0;34m=\u001b[0m \u001b[0mnp\u001b[0m\u001b[0;34m.\u001b[0m\u001b[0mload\u001b[0m\u001b[0;34m(\u001b[0m\u001b[0mfilename\u001b[0m\u001b[0;34m)\u001b[0m\u001b[0;34m\u001b[0m\u001b[0;34m\u001b[0m\u001b[0m\n\u001b[1;32m     11\u001b[0m \u001b[0mfilename\u001b[0m \u001b[0;34m=\u001b[0m \u001b[0mos\u001b[0m\u001b[0;34m.\u001b[0m\u001b[0mpath\u001b[0m\u001b[0;34m.\u001b[0m\u001b[0mjoin\u001b[0m\u001b[0;34m(\u001b[0m\u001b[0mpath\u001b[0m\u001b[0;34m,\u001b[0m \u001b[0;34m\"similarities_filter05_spec2vec_3iter_size650.npy\"\u001b[0m\u001b[0;34m)\u001b[0m\u001b[0;34m\u001b[0m\u001b[0;34m\u001b[0m\u001b[0m\n\u001b[0;32m---> 12\u001b[0;31m \u001b[0mmatrix_similarities_spec2vec650\u001b[0m \u001b[0;34m=\u001b[0m \u001b[0mnp\u001b[0m\u001b[0;34m.\u001b[0m\u001b[0mload\u001b[0m\u001b[0;34m(\u001b[0m\u001b[0mfilename\u001b[0m\u001b[0;34m)\u001b[0m\u001b[0;34m\u001b[0m\u001b[0;34m\u001b[0m\u001b[0m\n\u001b[0m\u001b[1;32m     13\u001b[0m \u001b[0mfilename\u001b[0m \u001b[0;34m=\u001b[0m \u001b[0mos\u001b[0m\u001b[0;34m.\u001b[0m\u001b[0mpath\u001b[0m\u001b[0;34m.\u001b[0m\u001b[0mjoin\u001b[0m\u001b[0;34m(\u001b[0m\u001b[0mpath\u001b[0m\u001b[0;34m,\u001b[0m \u001b[0;34m\"similarities_filter05_spec2vec_3iter_size700.npy\"\u001b[0m\u001b[0;34m)\u001b[0m\u001b[0;34m\u001b[0m\u001b[0;34m\u001b[0m\u001b[0m\n\u001b[1;32m     14\u001b[0m \u001b[0mmatrix_similarities_spec2vec700\u001b[0m \u001b[0;34m=\u001b[0m \u001b[0mnp\u001b[0m\u001b[0;34m.\u001b[0m\u001b[0mload\u001b[0m\u001b[0;34m(\u001b[0m\u001b[0mfilename\u001b[0m\u001b[0;34m)\u001b[0m\u001b[0;34m\u001b[0m\u001b[0;34m\u001b[0m\u001b[0m\n",
      "\u001b[0;32m/usr/local/anaconda3/envs/gcms-analysis/lib/python3.7/site-packages/numpy/lib/npyio.py\u001b[0m in \u001b[0;36mload\u001b[0;34m(file, mmap_mode, allow_pickle, fix_imports, encoding)\u001b[0m\n\u001b[1;32m    438\u001b[0m             \u001b[0;32melse\u001b[0m\u001b[0;34m:\u001b[0m\u001b[0;34m\u001b[0m\u001b[0;34m\u001b[0m\u001b[0m\n\u001b[1;32m    439\u001b[0m                 return format.read_array(fid, allow_pickle=allow_pickle,\n\u001b[0;32m--> 440\u001b[0;31m                                          pickle_kwargs=pickle_kwargs)\n\u001b[0m\u001b[1;32m    441\u001b[0m         \u001b[0;32melse\u001b[0m\u001b[0;34m:\u001b[0m\u001b[0;34m\u001b[0m\u001b[0;34m\u001b[0m\u001b[0m\n\u001b[1;32m    442\u001b[0m             \u001b[0;31m# Try a pickle\u001b[0m\u001b[0;34m\u001b[0m\u001b[0;34m\u001b[0m\u001b[0;34m\u001b[0m\u001b[0m\n",
      "\u001b[0;32m/usr/local/anaconda3/envs/gcms-analysis/lib/python3.7/site-packages/numpy/lib/format.py\u001b[0m in \u001b[0;36mread_array\u001b[0;34m(fp, allow_pickle, pickle_kwargs)\u001b[0m\n\u001b[1;32m    739\u001b[0m         \u001b[0;32mif\u001b[0m \u001b[0misfileobj\u001b[0m\u001b[0;34m(\u001b[0m\u001b[0mfp\u001b[0m\u001b[0;34m)\u001b[0m\u001b[0;34m:\u001b[0m\u001b[0;34m\u001b[0m\u001b[0;34m\u001b[0m\u001b[0m\n\u001b[1;32m    740\u001b[0m             \u001b[0;31m# We can use the fast fromfile() function.\u001b[0m\u001b[0;34m\u001b[0m\u001b[0;34m\u001b[0m\u001b[0;34m\u001b[0m\u001b[0m\n\u001b[0;32m--> 741\u001b[0;31m             \u001b[0marray\u001b[0m \u001b[0;34m=\u001b[0m \u001b[0mnumpy\u001b[0m\u001b[0;34m.\u001b[0m\u001b[0mfromfile\u001b[0m\u001b[0;34m(\u001b[0m\u001b[0mfp\u001b[0m\u001b[0;34m,\u001b[0m \u001b[0mdtype\u001b[0m\u001b[0;34m=\u001b[0m\u001b[0mdtype\u001b[0m\u001b[0;34m,\u001b[0m \u001b[0mcount\u001b[0m\u001b[0;34m=\u001b[0m\u001b[0mcount\u001b[0m\u001b[0;34m)\u001b[0m\u001b[0;34m\u001b[0m\u001b[0;34m\u001b[0m\u001b[0m\n\u001b[0m\u001b[1;32m    742\u001b[0m         \u001b[0;32melse\u001b[0m\u001b[0;34m:\u001b[0m\u001b[0;34m\u001b[0m\u001b[0;34m\u001b[0m\u001b[0m\n\u001b[1;32m    743\u001b[0m             \u001b[0;31m# This is not a real file. We have to read it the\u001b[0m\u001b[0;34m\u001b[0m\u001b[0;34m\u001b[0m\u001b[0;34m\u001b[0m\u001b[0m\n",
      "\u001b[0;31mKeyboardInterrupt\u001b[0m: "
     ]
    }
   ],
   "source": [
    "filename = os.path.join(path, \"similarities_filter05_spec2vec_3iter_size2.npy\")\n",
    "matrix_similarities_spec2vec2 = np.load(filename)\n",
    "filename = os.path.join(path, \"similarities_filter05_spec2vec_3iter_size50.npy\")\n",
    "matrix_similarities_spec2vec50 = np.load(filename)\n",
    "filename = os.path.join(path, \"similarities_filter05_spec2vec_3iter_size100.npy\")\n",
    "matrix_similarities_spec2vec100 = np.load(filename)\n",
    "filename = os.path.join(path, \"similarities_filter05_spec2vec_3iter_size300.npy\")\n",
    "matrix_similarities_spec2vec300 = np.load(filename)\n",
    "filename = os.path.join(path, \"similarities_filter05_spec2vec_3iter_size600.npy\")\n",
    "matrix_similarities_spec2vec600 = np.load(filename)\n",
    "filename = os.path.join(path, \"similarities_filter05_spec2vec_3iter_size650.npy\")\n",
    "matrix_similarities_spec2vec650 = np.load(filename)\n",
    "filename = os.path.join(path, \"similarities_filter05_spec2vec_3iter_size700.npy\")\n",
    "matrix_similarities_spec2vec700 = np.load(filename)\n",
    "filename = os.path.join(path, \"similarities_filter05_spec2vec_3iter_size800.npy\")\n",
    "matrix_similarities_spec2vec800 = np.load(filename)\n"
   ]
  },
  {
   "cell_type": "code",
   "execution_count": null,
   "metadata": {},
   "outputs": [],
   "source": [
    "# from custom_functions.plotting_functions import plot_precentile\n",
    "\n",
    "import re\n",
    "import unidecode\n",
    "import numpy as np\n",
    "from matplotlib import pyplot as plt\n",
    "\n",
    "def plot_precentile(arr_ref, arr_sim, percentile=1.0, ignore_diagonal=False):\n",
    "    \n",
    "    # function to search and obtain nan elemnts and delete them\n",
    "    # First checks if the arrays has the same length\n",
    "    # Then obtaines the indexes of the elements that are not nan of the reference array\n",
    "    # Then overwrites both arrays without the position on which were nans in the reference array\n",
    "    def _ignore_reference_nans(arr_ref, arr_sim):\n",
    "        assert arr_ref.shape == arr_sim.shape, \"Expected two arrays of identical shape.\"\n",
    "        idx_not_nans = np.where(np.isnan(arr_ref) == False)\n",
    "        arr_sim = arr_sim[idx_not_nans]\n",
    "        arr_ref = arr_ref[idx_not_nans]\n",
    "        return arr_ref, arr_sim\n",
    "\n",
    "    # If true replace the elements in the diagonal with NaN\n",
    "    if ignore_diagonal:\n",
    "        np.fill_diagonal(arr_ref, np.nan)\n",
    "\n",
    "    # Call to this method to remove the NaN elements from the arrays\n",
    "    arr_ref, arr_sim = _ignore_reference_nans(arr_ref, arr_sim)\n",
    "\n",
    "    # Obtain the index position according to the percentile\n",
    "    start = int(arr_sim.shape[0] * percentile / 100)\n",
    "    idx = np.argpartition(arr_sim, -start)\n",
    "    starting_point = arr_sim[idx[-start]]\n",
    "    if starting_point == 0:\n",
    "        print(\"not enough datapoints != 0 above given top-precentile\")\n",
    "\n",
    "    # Obtain only the elements on the given percentile\n",
    "    low_as = np.where(arr_sim == starting_point)[0]\n",
    "\n",
    "    # Set the length of the array to the length of the new list with the percentile elements\n",
    "    length_selected = low_as.shape[0]  # start+1\n",
    "\n",
    "    # Create a new array of zeros where the elements of array_ref and array_sim will be added\n",
    "    data = np.zeros((2, length_selected))\n",
    "    # Add arr_sim values to first position and arr_ref to second position\n",
    "    data[0, :] = arr_sim[low_as]\n",
    "    data[1, :] = arr_ref[low_as]\n",
    "\n",
    "    # Order the data according to arr_sim scores\n",
    "    data = data[:, np.lexsort((data[1, :], data[0, :]))]\n",
    "\n",
    "    ref_score_cum = []\n",
    "\n",
    "    # Return mean molecular similarity score of arr_ref \n",
    "    return np.mean(data[1, :])"
   ]
  },
  {
   "cell_type": "code",
   "execution_count": null,
   "metadata": {},
   "outputs": [],
   "source": [
    "percentile = 0.3\n",
    "\n",
    "percentile_cosine_spec2vec2 = plot_precentile(matrix_similarities_tanimoto, matrix_similarities_spec2vec2, percentile=percentile)\n",
    "percentile_cosine_spec2vec50 = plot_precentile(matrix_similarities_tanimoto, matrix_similarities_spec2vec50, percentile=percentile)\n",
    "percentile_cosine_spec2vec100 = plot_precentile(matrix_similarities_tanimoto, matrix_similarities_spec2vec100, percentile=percentile)\n",
    "percentile_cosine_spec2vec300 = plot_precentile(matrix_similarities_tanimoto, matrix_similarities_spec2vec300, percentile=percentile)\n",
    "percentile_cosine_spec2vec600 = plot_precentile(matrix_similarities_tanimoto, matrix_similarities_spec2vec600, percentile=percentile)\n",
    "percentile_cosine_spec2vec650 = plot_precentile(matrix_similarities_tanimoto, matrix_similarities_spec2vec650, percentile=percentile)\n",
    "percentile_cosine_spec2vec700 = plot_precentile(matrix_similarities_tanimoto, matrix_similarities_spec2vec700, percentile=percentile)\n",
    "percentile_cosine_spec2vec800 = plot_precentile(matrix_similarities_tanimoto, matrix_similarities_spec2vec800, percentile=percentile)\n"
   ]
  },
  {
   "cell_type": "code",
   "execution_count": null,
   "metadata": {
    "scrolled": false
   },
   "outputs": [],
   "source": [
    "import matplotlib.pyplot as plt\n",
    "\n",
    "def plot_spec2vec_performance(spec2vec_dimensions, title=None):\n",
    "    plt.style.use('ggplot')\n",
    "    fig, ax = plt.subplots(figsize=(12,9))\n",
    "\n",
    "    x_dimensions = [2, 50, 100, 300, 600, 650, 700, 800]\n",
    "\n",
    "    max_score = max(spec2vec_dimensions) + 0.1\n",
    "\n",
    "    plt.scatter(x_dimensions, spec2vec_dimensions)\n",
    "\n",
    "    if title is not None:\n",
    "        plt.suptitle(title, fontsize=16)\n",
    "    plt.xticks(fontsize=12)\n",
    "    plt.yticks(fontsize=12)\n",
    "    plt.legend()\n",
    "    plt.xlabel(\"Spectral dimensionality\", fontsize=13)\n",
    "    plt.ylabel(\"Mean molecular similarity f(m1,m2) \\n (within 30th percentile)\", fontsize=13)\n",
    "    plt.xlim(-10, 810)\n",
    "    plt.ylim(-0.01, max_score)\n",
    "\n",
    "spec2vec_dimensions = [percentile_cosine_spec2vec2, percentile_cosine_spec2vec50, percentile_cosine_spec2vec100, percentile_cosine_spec2vec300, percentile_cosine_spec2vec600, percentile_cosine_spec2vec650, percentile_cosine_spec2vec700, percentile_cosine_spec2vec800]\n",
    "plot_spec2vec_performance(spec2vec_dimensions, \"Performance of spec2vec\\n 30th Percentile\")"
   ]
  },
  {
   "cell_type": "code",
   "execution_count": null,
   "metadata": {},
   "outputs": [],
   "source": [
    "percentile2 = 0.1\n",
    "\n",
    "percentile_cosine_spec2vec2 = plot_precentile(matrix_similarities_tanimoto, matrix_similarities_spec2vec2, percentile=percentile)\n",
    "percentile_cosine_spec2vec50 = plot_precentile(matrix_similarities_tanimoto, matrix_similarities_spec2vec50, percentile=percentile)\n",
    "percentile_cosine_spec2vec100 = plot_precentile(matrix_similarities_tanimoto, matrix_similarities_spec2vec100, percentile=percentile)\n",
    "percentile_cosine_spec2vec300 = plot_precentile(matrix_similarities_tanimoto, matrix_similarities_spec2vec300, percentile=percentile)\n",
    "percentile_cosine_spec2vec600 = plot_precentile(matrix_similarities_tanimoto, matrix_similarities_spec2vec600, percentile=percentile)\n",
    "percentile_cosine_spec2vec650 = plot_precentile(matrix_similarities_tanimoto, matrix_similarities_spec2vec650, percentile=percentile)\n",
    "percentile_cosine_spec2vec700 = plot_precentile(matrix_similarities_tanimoto, matrix_similarities_spec2vec700, percentile=percentile)\n",
    "percentile_cosine_spec2vec800 = plot_precentile(matrix_similarities_tanimoto, matrix_similarities_spec2vec800, percentile=percentile)\n"
   ]
  },
  {
   "cell_type": "code",
   "execution_count": null,
   "metadata": {},
   "outputs": [],
   "source": [
    "\n",
    "spec2vec_dimensions = [percentile_cosine_spec2vec2, percentile_cosine_spec2vec50, percentile_cosine_spec2vec100, percentile_cosine_spec2vec300, percentile_cosine_spec2vec600, percentile_cosine_spec2vec650, percentile_cosine_spec2vec700, percentile_cosine_spec2vec800]\n",
    "plot_spec2vec_performance(spec2vec_dimensions, \"Performance of spec2vec\\n 10th Percentile\")\n"
   ]
  },
  {
   "cell_type": "code",
   "execution_count": null,
   "metadata": {},
   "outputs": [],
   "source": [
    "percentile2 = 0.01\n",
    "\n",
    "percentile_cosine_spec2vec2 = plot_precentile(matrix_similarities_tanimoto, matrix_similarities_spec2vec2, percentile=percentile)\n",
    "percentile_cosine_spec2vec50 = plot_precentile(matrix_similarities_tanimoto, matrix_similarities_spec2vec50, percentile=percentile)\n",
    "percentile_cosine_spec2vec100 = plot_precentile(matrix_similarities_tanimoto, matrix_similarities_spec2vec100, percentile=percentile)\n",
    "percentile_cosine_spec2vec300 = plot_precentile(matrix_similarities_tanimoto, matrix_similarities_spec2vec300, percentile=percentile)\n",
    "percentile_cosine_spec2vec600 = plot_precentile(matrix_similarities_tanimoto, matrix_similarities_spec2vec600, percentile=percentile)\n",
    "percentile_cosine_spec2vec650 = plot_precentile(matrix_similarities_tanimoto, matrix_similarities_spec2vec650, percentile=percentile)\n",
    "percentile_cosine_spec2vec700 = plot_precentile(matrix_similarities_tanimoto, matrix_similarities_spec2vec700, percentile=percentile)\n",
    "percentile_cosine_spec2vec800 = plot_precentile(matrix_similarities_tanimoto, matrix_similarities_spec2vec800, percentile=percentile)\n"
   ]
  },
  {
   "cell_type": "code",
   "execution_count": null,
   "metadata": {},
   "outputs": [],
   "source": [
    "\n",
    "spec2vec_dimensions = [percentile_cosine_spec2vec2, percentile_cosine_spec2vec50, percentile_cosine_spec2vec100, percentile_cosine_spec2vec300, percentile_cosine_spec2vec600, percentile_cosine_spec2vec650, percentile_cosine_spec2vec700, percentile_cosine_spec2vec800]\n",
    "plot_spec2vec_performance(spec2vec_dimensions, \"Performance of spec2vec\\n 1st Percentile\")\n"
   ]
  }
 ],
 "metadata": {
  "kernelspec": {
   "display_name": "Python 3",
   "language": "python",
   "name": "python3"
  },
  "language_info": {
   "codemirror_mode": {
    "name": "ipython",
    "version": 3
   },
   "file_extension": ".py",
   "mimetype": "text/x-python",
   "name": "python",
   "nbconvert_exporter": "python",
   "pygments_lexer": "ipython3",
   "version": "3.7.8"
  }
 },
 "nbformat": 4,
 "nbformat_minor": 4
}
