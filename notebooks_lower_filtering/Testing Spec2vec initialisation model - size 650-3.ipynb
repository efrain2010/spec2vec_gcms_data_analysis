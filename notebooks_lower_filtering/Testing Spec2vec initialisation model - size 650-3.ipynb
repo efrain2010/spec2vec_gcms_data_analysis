{
 "cells": [
  {
   "cell_type": "markdown",
   "metadata": {},
   "source": [
    "# Obtaining the data from the Mona File\n",
    "\n",
    "## Getting the path for Mona file\n",
    "\n",
    "Using the method load_from_msp, the information inside the Mona file is being obtained."
   ]
  },
  {
   "cell_type": "code",
   "execution_count": 1,
   "metadata": {},
   "outputs": [],
   "source": [
    "import os\n",
    "import sys\n",
    "\n",
    "ROOT = os.path.dirname(os.getcwd())\n",
    "path = os.path.join(os.path.dirname(os.getcwd()), \"data\")\n",
    "sys.path.insert(0, ROOT)\n",
    "msp_file = os.path.join(path, \"MoNA-export-GC-MS.msp\")"
   ]
  },
  {
   "cell_type": "markdown",
   "metadata": {},
   "source": [
    "## Appliying filters to the spectra\n",
    "\n",
    "Applied filters are:\n",
    "* normalize_intensities(s)\n",
    "* select_by_mz(s, mz_from=0, mz_to=1000)\n",
    "* select_by_relative_intensity(s, intensity_from=0.05, intensity_to=1.0)"
   ]
  },
  {
   "cell_type": "code",
   "execution_count": 2,
   "metadata": {},
   "outputs": [
    {
     "name": "stdout",
     "output_type": "stream",
     "text": [
      "Number of Spectra: 14847\n"
     ]
    }
   ],
   "source": [
    "from matchms.importing import load_from_msp\n",
    "\n",
    "spectrums = [s for s in load_from_msp(msp_file)]\n",
    "print(\"Number of Spectra:\", len(spectrums))"
   ]
  },
  {
   "cell_type": "code",
   "execution_count": 3,
   "metadata": {},
   "outputs": [
    {
     "name": "stdout",
     "output_type": "stream",
     "text": [
      "Number of Spectra: 14844\n"
     ]
    }
   ],
   "source": [
    "from matchms.filtering import normalize_intensities\n",
    "from matchms.filtering import select_by_mz\n",
    "from matchms.filtering import select_by_relative_intensity\n",
    "\n",
    "def apply_my_filters(s):\n",
    "    s = normalize_intensities(s)\n",
    "    s = select_by_mz(s, mz_from=0, mz_to=1000)\n",
    "    s = select_by_relative_intensity(s, intensity_from=0.01, intensity_to=1.0)\n",
    "    return s\n",
    "\n",
    "spectrums = [apply_my_filters(s) for s in spectrums]\n",
    "\n",
    "spectrums = [s for s in spectrums if s is not None]\n",
    "\n",
    "#Filter spectra with peak intensities length equals or less than zero\n",
    "spectrums = [s for s in spectrums if len(s.peaks.intensities) > 0]\n",
    "\n",
    "print(\"Number of Spectra:\", len(spectrums))"
   ]
  },
  {
   "cell_type": "markdown",
   "metadata": {},
   "source": [
    "## Converting Spectrum objects to Spectrum Documents"
   ]
  },
  {
   "cell_type": "code",
   "execution_count": 4,
   "metadata": {},
   "outputs": [
    {
     "name": "stdout",
     "output_type": "stream",
     "text": [
      "14844\n"
     ]
    }
   ],
   "source": [
    "from spec2vec import SpectrumDocument\n",
    "\n",
    "reference_documents = [SpectrumDocument(s) for s in spectrums]\n",
    "\n",
    "print(len(reference_documents))"
   ]
  },
  {
   "cell_type": "markdown",
   "metadata": {},
   "source": [
    "## Training the word2vec model\n",
    "\n",
    "Data used for training the model:\\\n",
    "**Iterarions=10, 20, 30**\\\n",
    "**Workers=2**\n",
    "\n",
    "Once the model is trained the file \"references.model\" is stored for further use in the score calculation"
   ]
  },
  {
   "cell_type": "code",
   "execution_count": 5,
   "metadata": {
    "scrolled": true
   },
   "outputs": [
    {
     "name": "stdout",
     "output_type": "stream",
     "text": [
      "The value of size is set from 300 (default) to 650\n",
      "The value of workers is set from 4 (default) to 2\n",
      "Saving model with name: /Volumes/easystore/spec2vec_gcms_data_analysis/data/testing-references_iter_10.model\n",
      "Saving model with name: /Volumes/easystore/spec2vec_gcms_data_analysis/data/testing-references_iter_20.model\n",
      "Saving model with name: /Volumes/easystore/spec2vec_gcms_data_analysis/data/testing-references.model\n"
     ]
    }
   ],
   "source": [
    "from spec2vec.model_building import train_new_word2vec_model\n",
    "    \n",
    "model_file = os.path.join(path, \"testing-references.model\")\n",
    "model = train_new_word2vec_model(documents=reference_documents, filename=model_file, \n",
    "                                 size=650, iterations=[10, 20, 30],\n",
    "                                 workers=2, progress_logger=False)"
   ]
  },
  {
   "cell_type": "markdown",
   "metadata": {},
   "source": [
    "## Setting the query data\n",
    "\n",
    "All Spectra in the Monna file will be used to try to find them using the Spec2VecParallel method"
   ]
  },
  {
   "cell_type": "code",
   "execution_count": 6,
   "metadata": {},
   "outputs": [],
   "source": [
    "query_documents = reference_documents.copy()"
   ]
  },
  {
   "cell_type": "markdown",
   "metadata": {},
   "source": [
    "### Ref and QuerySpectrums Documents"
   ]
  },
  {
   "cell_type": "code",
   "execution_count": 7,
   "metadata": {},
   "outputs": [
    {
     "name": "stdout",
     "output_type": "stream",
     "text": [
      "Ref docs: 14844 Query docs: 14844\n"
     ]
    }
   ],
   "source": [
    "print(\"Ref docs:\", len(reference_documents), \"Query docs:\", len(query_documents))"
   ]
  },
  {
   "cell_type": "markdown",
   "metadata": {},
   "source": [
    "### Loading the model file to word2vec for the similarity function\n",
    "\n",
    "Parameters for the similarity function:\\\n",
    "**intensity_weighting_power=0.5**\\\n",
    "**allowed_missing_percentage=5.0**"
   ]
  },
  {
   "cell_type": "code",
   "execution_count": 8,
   "metadata": {},
   "outputs": [],
   "source": [
    "import gensim\n",
    "from matchms import calculate_scores_parallel\n",
    "from spec2vec import Spec2VecParallel\n",
    "\n",
    "model = gensim.models.Word2Vec.load(model_file)\n",
    "    \n",
    "# Define similarity_function\n",
    "spec2vec = Spec2VecParallel(model=model, intensity_weighting_power=0.5,\n",
    "                            allowed_missing_percentage=5.0)"
   ]
  },
  {
   "cell_type": "markdown",
   "metadata": {},
   "source": [
    "### Calculating the similarity of the reference and query documents using Spec2vec parallel method\n",
    "\n",
    "For the calculation the same Spectrums are being used as reference and query"
   ]
  },
  {
   "cell_type": "code",
   "execution_count": 9,
   "metadata": {},
   "outputs": [],
   "source": [
    "matrix_similarities_spec2vec = spec2vec(reference_documents, query_documents)"
   ]
  },
  {
   "cell_type": "code",
   "execution_count": 10,
   "metadata": {},
   "outputs": [],
   "source": [
    "import numpy as np\n",
    "\n",
    "# filename = os.path.join(path,'similarities_filter05_spec2vec_3iter_size650.npy')\n",
    "# np.save(filename, scores_spec2vec)"
   ]
  },
  {
   "cell_type": "code",
   "execution_count": 11,
   "metadata": {},
   "outputs": [
    {
     "name": "stdout",
     "output_type": "stream",
     "text": [
      "Matrix dimension (14844, 14844)\n"
     ]
    }
   ],
   "source": [
    "filename = os.path.join(path, \"gcms_similarities_filter05_morgan3_2048_dice.npy\")\n",
    "matrix_similarities_tanimoto = np.load(filename)\n",
    "\n",
    "print(\"Matrix dimension\", matrix_similarities_tanimoto.shape)"
   ]
  },
  {
   "cell_type": "code",
   "execution_count": 12,
   "metadata": {},
   "outputs": [
    {
     "data": {
      "image/png": "[encoded data removed]",
      "text/plain": [
       "<Figure size 432x432 with 1 Axes>"
      ]
     },
     "metadata": {
      "needs_background": "light"
     },
     "output_type": "display_data"
    }
   ],
   "source": [
    "from custom_functions.plotting_functions import plot_precentile\n",
    "\n",
    "show_top_percentile = 0.3\n",
    "\n",
    "percentile_cosine_nist = plot_precentile(matrix_similarities_tanimoto, matrix_similarities_spec2vec, show_top_percentile=show_top_percentile, title=\"Cosine NIST Top Percentil Comparison\", ignore_diagonal=True)\n"
   ]
  }
 ],
 "metadata": {
  "kernelspec": {
   "display_name": "Python 3",
   "language": "python",
   "name": "python3"
  },
  "language_info": {
   "codemirror_mode": {
    "name": "ipython",
    "version": 3
   },
   "file_extension": ".py",
   "mimetype": "text/x-python",
   "name": "python",
   "nbconvert_exporter": "python",
   "pygments_lexer": "ipython3",
   "version": "3.7.8"
  }
 },
 "nbformat": 4,
 "nbformat_minor": 4
}
