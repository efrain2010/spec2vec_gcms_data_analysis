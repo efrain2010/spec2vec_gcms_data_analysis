{
 "cells": [
  {
   "cell_type": "markdown",
   "metadata": {},
   "source": [
    "# Obtaining the data from the Mona File\n",
    "\n",
    "## Getting the path for Mona file\n",
    "\n",
    "Using the method load_from_msp, the information inside the Mona file is being obtained."
   ]
  },
  {
   "cell_type": "code",
   "execution_count": 251,
   "metadata": {},
   "outputs": [],
   "source": [
    "import os\n",
    "\n",
    "ROOT = os.path.abspath(os.path.join(os.getcwd()))\n",
    "path = os.path.join(os.path.dirname(os.getcwd()), \"data\")\n",
    "msp_file = os.path.join(path, \"MoNA-export-GC-MS.msp\")"
   ]
  },
  {
   "cell_type": "markdown",
   "metadata": {},
   "source": [
    "## Importing Spectr from msp"
   ]
  },
  {
   "cell_type": "code",
   "execution_count": 252,
   "metadata": {},
   "outputs": [
    {
     "name": "stdout",
     "output_type": "stream",
     "text": [
      "Number of Spectra: 14847\n"
     ]
    }
   ],
   "source": [
    "from matchms.importing import load_from_msp\n",
    "import numpy as np\n",
    "\n",
    "\n",
    "spectrums = [s for s in load_from_msp(msp_file)]\n",
    "print(\"Number of Spectra:\", len(spectrums))"
   ]
  },
  {
   "cell_type": "code",
   "execution_count": 272,
   "metadata": {},
   "outputs": [
    {
     "name": "stdout",
     "output_type": "stream",
     "text": [
      "[ 51.  55.  57.  58.  59.  60.  61.  62.  63.  66.  68.  70.  72.  73.\n",
      "  74.  75.  76.  78.  80.  81.  82.  83.  86.  87.  92.  93.  94.  98.\n",
      "  99. 100. 104. 107. 108. 110. 112. 113. 115. 116. 120. 122. 123. 124.\n",
      " 125. 126. 134. 135. 137. 147. 149. 150. 151. 159. 162. 163. 173. 174.\n",
      " 175. 177. 187. 188. 189. 190. 191. 198. 199. 200. 201. 202. 203. 207.\n",
      " 214. 217. 218. 247. 248.]\n",
      "[ 2.66  8.    7.33  1.33  1.33 14.    1.33  3.33  3.33  1.33  8.66  2.\n",
      "  5.33  7.33  3.33  2.66  2.    1.33  4.    2.    1.33  3.33 12.66  8.66\n",
      "  2.   10.    6.   14.66 83.33 60.66  4.    1.33  1.33  3.33  1.33  1.33\n",
      "  1.33  1.33  1.33  4.    2.66  2.66  2.    1.33  1.33  2.    1.33  1.33\n",
      "  2.    4.66  3.33  2.    2.    2.66  2.    8.66  4.66  2.    5.33  4.66\n",
      " 56.66 12.   16.66 10.66  9.33 72.66 99.99 16.    1.33  1.33  1.33 25.33\n",
      "  5.33 52.66 10.16]\n",
      "======================\n",
      "[ 51.  52.  53.  54.  55.  56.  57.  60.  61.  62.  63.  64.  65.  66.\n",
      "  67.  68.  69.  70.  71.  73.  74.  75.  76.  77.  78.  79.  80.  81.\n",
      "  82.  83.  84.  85.  90.  91.  92.  93.  94.  95.  96.  97.  98. 105.\n",
      " 106. 107. 108. 109. 111. 120. 121. 122. 123. 126. 136. 137. 138. 149.\n",
      " 153. 154. 155. 168. 183. 184. 185. 186.]\n",
      "[27.22 19.9  61.8   6.76 13.95  3.86 11.52  6.43 13.38 36.19 61.37 26.2\n",
      "  6.74  5.1   7.43 10.32 29.16  5.53  6.11  4.14  3.92  3.49  4.33  6.21\n",
      "  5.1  35.07  9.85 16.    5.37  6.13  2.96  3.   12.01 53.25 28.32 18.25\n",
      "  3.51  6.41  5.43  5.12  2.43  3.76  6.35 38.97  7.11  3.98  2.63  2.12\n",
      "  4.45  4.    3.14  2.12  2.77  3.14  3.55  4.12  4.02 39.3   3.16  3.29\n",
      "  3.26 99.99  8.17  1.34]\n",
      "======================\n",
      "[ 51.  53.  60.  61.  62.  63.  64.  71.  72.  73.  74.  75.  81.  82.\n",
      "  83.  91.  97.  98.  99. 100. 101. 107. 109. 126. 127. 128. 133. 134.\n",
      " 135. 136. 161. 162. 163. 164. 165. 166.]\n",
      "[ 2.25  6.4   4.13  9.78 20.36 32.41  5.58  2.16  8.31 13.57  6.23  5.23\n",
      "  8.28  5.27  2.81  2.06  6.25 25.55 33.74  9.84 12.32  2.31  2.08  7.67\n",
      "  3.67  2.81  5.09  7.44  3.61  4.75  3.6  99.99  8.7  62.28  4.54  9.78]\n",
      "======================\n",
      "[ 51.  52.  53.  59.  60.  61.  62.  63.  64.  65.  66.  71.  72.  73.\n",
      "  74.  75.  81.  82.  83.  84.  85.  87.  89.  90.  91.  96.  97.  98.\n",
      "  99. 100. 101. 126. 127. 128. 133. 134. 135. 136. 161. 162. 163. 164.\n",
      " 165. 166.]\n",
      "[ 5.05  2.29 22.87  3.69 16.58 33.26 62.1  99.99 11.61  2.73  4.11  2.98\n",
      " 12.03 32.28 12.69 11.42  6.65  4.64  3.82  3.02  2.81  2.86  2.17  2.05\n",
      "  6.28  3.57 15.64 39.   33.72 13.84 10.87  9.01  3.11  3.25  6.28  4.28\n",
      "  4.21  2.59 11.74 89.04 12.37 52.89  4.62  8.78]\n",
      "======================\n",
      "[ 53.  60.  61.  62.  63.  64.  65.  72.  73.  74.  75.  81.  82.  83.\n",
      "  91.  97.  98.  99. 100. 101. 107. 125. 126. 127. 128. 133. 135. 161.\n",
      " 162. 163. 164. 165. 166.]\n",
      "[ 7.25  3.    8.88 17.84 70.92  8.02  2.01  5.48 12.35  4.63  4.81  6.73\n",
      "  4.37  2.09  3.83  7.27 34.04 15.04 13.17  4.37  2.61  2.01 33.42  3.34\n",
      " 11.41  3.34  2.17  2.35 99.99  8.23 63.43  4.35  9.91]\n",
      "======================\n"
     ]
    }
   ],
   "source": [
    "efra = spectrums[:5]\n",
    "for s in efra:\n",
    "    mz, intensities = s.peaks\n",
    "    print(mz)\n",
    "    print(intensities)\n",
    "    print(\"======================\")\n"
   ]
  },
  {
   "cell_type": "markdown",
   "metadata": {},
   "source": [
    "## Appliying filters to the spectra\n",
    "\n",
    "Applied filters are:\n",
    "* select_by_mz(s, **mz_from=0**, **mz_to=1000**)\n",
    "* normalize_intensities(s)\n",
    "* select_by_relative_intensity(s, **intensity_from=0.05**, **intensity_to=0.3**)"
   ]
  },
  {
   "cell_type": "code",
   "execution_count": 253,
   "metadata": {},
   "outputs": [],
   "source": [
    "from matchms.filtering import normalize_intensities\n",
    "from matchms.filtering import select_by_mz\n",
    "from matchms.filtering import select_by_relative_intensity\n",
    "\n",
    "def apply_my_filters(s):\n",
    "    s = select_by_mz(s, mz_from=0, mz_to=1000)\n",
    "    s = normalize_intensities(s)\n",
    "    s = select_by_relative_intensity(s, intensity_from=0.05, intensity_to=1)\n",
    "    return s\n"
   ]
  },
  {
   "cell_type": "markdown",
   "metadata": {},
   "source": [
    "## Dividing spectra in groups of the same and different molecule"
   ]
  },
  {
   "cell_type": "code",
   "execution_count": 254,
   "metadata": {},
   "outputs": [],
   "source": [
    "import random\n",
    "\n",
    "def group_by_inchikey(spectrums):\n",
    "    grouped_spectrum = []\n",
    "    inchikeys = []\n",
    "    for s in spectrums:\n",
    "        inchikey = s.metadata.get('inchikey').split('-', 1)[0]\n",
    "        if inchikey not in inchikeys:\n",
    "            inchikeys.append(inchikey)\n",
    "            grouped_spectrum.append([s]) \n",
    "        else:\n",
    "            index = inchikeys.index(inchikey)\n",
    "            grouped_spectrum[index].append(s)\n",
    "    print(len(grouped_spectrum), \"unique molecules\")\n",
    "    return grouped_spectrum\n",
    "\n",
    "def grouped_by_same_mol(spectrums):\n",
    "    group_spectra_same_molecule = random.sample([k for k in group_by_inchikey(spectrums) if len(k) == 2], 1000)\n",
    "    return group_spectra_same_molecule\n",
    "\n",
    "def grouped_by_diff_mol(spectrums):\n",
    "    group_spectra_diff_molecule = [[g[0]] for g in grouped_by_same_mol(spectrums)]\n",
    "\n",
    "    for k, e in enumerate(group_spectra_diff_molecule):\n",
    "        diff_mol = random.sample(spectrums, 1)\n",
    "        while e[0].metadata['inchikey'].split('-', 1)[0] == diff_mol[0].metadata['inchikey'].split('-', 1)[0]:\n",
    "            diff_mol = random.sample(spectrums, 1)\n",
    "        group_spectra_diff_molecule[k].append(diff_mol[0])\n",
    "    \n",
    "    return group_spectra_diff_molecule"
   ]
  },
  {
   "cell_type": "code",
   "execution_count": 255,
   "metadata": {},
   "outputs": [
    {
     "name": "stdout",
     "output_type": "stream",
     "text": [
      "9006 unique molecules\n",
      "9006 unique molecules\n"
     ]
    }
   ],
   "source": [
    "same_mol_spectra = grouped_by_same_mol(spectrums)\n",
    "diff_mol_spectra = grouped_by_diff_mol(spectrums)"
   ]
  },
  {
   "cell_type": "markdown",
   "metadata": {},
   "source": [
    "## Selecting a sample of a thousand pairs of spectra of the same and different molecule"
   ]
  },
  {
   "cell_type": "code",
   "execution_count": 256,
   "metadata": {},
   "outputs": [],
   "source": [
    "import numpy as np\n",
    "\n",
    "def select_1000_spectra(data):\n",
    "    temp = [data[i] for i in range(1000)]\n",
    "    return [[s[0], s[1]] for s in temp]\n",
    "            \n",
    "same_mol_one_k_sample = select_1000_spectra(same_mol_spectra)\n",
    "diff_mol_one_k_sample = select_1000_spectra(diff_mol_spectra)\n"
   ]
  },
  {
   "cell_type": "markdown",
   "metadata": {},
   "source": [
    "## Computing the Similarity score\n",
    "\n",
    "The similarity algorithm used is Greedy with the Demuth powers due to the likeliness to Spec2Vec\n",
    "Similarity scores of one thousand spectra is being computed"
   ]
  },
  {
   "cell_type": "code",
   "execution_count": 257,
   "metadata": {},
   "outputs": [],
   "source": [
    "from datetime import datetime\n",
    "from matchms import calculate_scores\n",
    "from matchms.similarity import CosineGreedy\n",
    "import numpy as np\n",
    "\n",
    "def calculate_similarity_scores(spectrums, tolerance=0.1):\n",
    "    \n",
    "    similarity_measure = CosineGreedy(tolerance, 0.0, 0.33)\n",
    "    similarity_scores, n_matches = [], []\n",
    "    \n",
    "    for s in spectrums:\n",
    "        similarity_temp, n_matches_temp = similarity_measure(s[0], s[1])\n",
    "        similarity_scores.append(similarity_temp)\n",
    "        n_matches.append(n_matches_temp)\n",
    "    \n",
    "    return similarity_scores, n_matches"
   ]
  },
  {
   "cell_type": "markdown",
   "metadata": {},
   "source": [
    "## Applying filters to the spectra\n",
    "\n",
    "Aplpying filters to the spectra and obtaining which of those spectra lose all their peaks after filtering"
   ]
  },
  {
   "cell_type": "code",
   "execution_count": 258,
   "metadata": {},
   "outputs": [
    {
     "name": "stdout",
     "output_type": "stream",
     "text": [
      "14 indexes to delete:  [4, 59, 100, 129, 286, 417, 540, 626, 661, 680, 773, 780, 804, 955]\n"
     ]
    }
   ],
   "source": [
    "\n",
    "def filter_spectra(spectrums):\n",
    "    temp_filtered, indexes_to_remove = [], []\n",
    "    for k, spectre in enumerate(spectrums):\n",
    "        temp_filtered.append([apply_my_filters(s) for s in spectre])\n",
    "        indexes_to_remove += [k for s in temp_filtered[-1] if len(s.peaks.intensities) <= 0]\n",
    "    return temp_filtered, indexes_to_remove\n",
    "\n",
    "same_mol_one_k_sample_filtered, same_mol_indexes_to_remove = filter_spectra(same_mol_one_k_sample)\n",
    "\n",
    "print(f\"{len(same_mol_indexes_to_remove)} indexes to delete: \", same_mol_indexes_to_remove)"
   ]
  },
  {
   "cell_type": "markdown",
   "metadata": {},
   "source": [
    "## Removing spectra without peaks\n",
    "\n",
    "the same indexes of spectra with no peaks are removed from the spectra which was not filtered, due to consistency when computing the difference in the similarity scores"
   ]
  },
  {
   "cell_type": "code",
   "execution_count": 259,
   "metadata": {},
   "outputs": [],
   "source": [
    "\n",
    "same_mol_one_k_sample = [s for k, s in enumerate(same_mol_one_k_sample) if k not in same_mol_indexes_to_remove]\n",
    "same_mol_one_k_sample_filtered = [s for k, s in enumerate(same_mol_one_k_sample_filtered) if k not in same_mol_indexes_to_remove]\n"
   ]
  },
  {
   "cell_type": "markdown",
   "metadata": {},
   "source": [
    "## Applying filters to spectra of different molecules"
   ]
  },
  {
   "cell_type": "code",
   "execution_count": 260,
   "metadata": {},
   "outputs": [
    {
     "name": "stdout",
     "output_type": "stream",
     "text": [
      "10 indexes without peaks ater filtering\n"
     ]
    }
   ],
   "source": [
    "\n",
    "diff_mol_one_k_sample_filtered, diff_mol_indexes_to_remove = filter_spectra(diff_mol_one_k_sample)\n",
    "\n",
    "print(f\"{len(diff_mol_indexes_to_remove)} indexes without peaks ater filtering\")\n"
   ]
  },
  {
   "cell_type": "markdown",
   "metadata": {},
   "source": [
    "## Removing spectra without peaks"
   ]
  },
  {
   "cell_type": "code",
   "execution_count": 261,
   "metadata": {},
   "outputs": [
    {
     "name": "stdout",
     "output_type": "stream",
     "text": [
      "990  pairs of spectra of different molecule are remaining\n"
     ]
    }
   ],
   "source": [
    "\n",
    "diff_mol_one_k_sample = [s for k, s in enumerate(diff_mol_one_k_sample) if k not in diff_mol_indexes_to_remove]\n",
    "diff_mol_one_k_sample_filtered = [s for k, s in enumerate(diff_mol_one_k_sample_filtered) if k not in diff_mol_indexes_to_remove]\n",
    "\n",
    "print(len(diff_mol_one_k_sample), \" pairs of spectra of different molecule are remaining\")"
   ]
  },
  {
   "cell_type": "markdown",
   "metadata": {},
   "source": [
    "## Computing similarity scores for both group of spectra without filters"
   ]
  },
  {
   "cell_type": "code",
   "execution_count": 262,
   "metadata": {},
   "outputs": [],
   "source": [
    "\n",
    "same_mol_similarities_unfiltered, same_mol_matches_unfiltered = calculate_similarity_scores(same_mol_one_k_sample, 0.5)\n",
    "diff_mol_similarities_unfiltered, diff_mol_matches_unfiltered = calculate_similarity_scores(diff_mol_one_k_sample, 0.5)\n"
   ]
  },
  {
   "cell_type": "markdown",
   "metadata": {},
   "source": [
    "## Computing similarity scores for both group of spectra after applying filters"
   ]
  },
  {
   "cell_type": "code",
   "execution_count": 263,
   "metadata": {},
   "outputs": [],
   "source": [
    "\n",
    "same_mol_similarities_filtered, same_mol_matches_filtered = calculate_similarity_scores(same_mol_one_k_sample_filtered, 0.5)\n",
    "diff_mol_similarities_filtered, diff_mol_matches_filtered = calculate_similarity_scores(diff_mol_one_k_sample_filtered, 0.5)\n"
   ]
  },
  {
   "cell_type": "markdown",
   "metadata": {},
   "source": [
    "## Computing scores difference"
   ]
  },
  {
   "cell_type": "code",
   "execution_count": 265,
   "metadata": {
    "scrolled": false
   },
   "outputs": [
    {
     "name": "stdout",
     "output_type": "stream",
     "text": [
      "Remaining Spectra of the same molecule: 986\n",
      "Remaining Spectra of different molecules: 990\n"
     ]
    }
   ],
   "source": [
    "\n",
    "def compute_differences(unfiltered_spectra, filtered_spectra):\n",
    "    assert len(unfiltered_spectra) == len(filtered_spectra), \"The size of the lists need to be the same\"\n",
    "    \n",
    "    difference_scores = []\n",
    "    for i in range(len(unfiltered_spectra)):\n",
    "        difference = unfiltered_spectra[i] - filtered_spectra[i]\n",
    "        if difference < 0:\n",
    "            difference = -difference\n",
    "        if np.isnan(difference):\n",
    "            print(difference,i,  unfiltered_spectra[i], filtered_spectra[i])\n",
    "        difference_scores.append(difference)\n",
    "    return difference_scores\n",
    "\n",
    "same_mol_score_differences = compute_differences(same_mol_similarities_unfiltered, same_mol_similarities_filtered)\n",
    "diff_mol_score_differences = compute_differences(diff_mol_similarities_unfiltered, diff_mol_similarities_filtered)\n",
    "\n",
    "print(f'Remaining Spectra of the same molecule: {len(same_mol_score_differences)}')\n",
    "print(f'Remaining Spectra of different molecules: {len(diff_mol_score_differences)}')"
   ]
  },
  {
   "cell_type": "markdown",
   "metadata": {},
   "source": [
    " ## Plotting score difference"
   ]
  },
  {
   "cell_type": "code",
   "execution_count": 266,
   "metadata": {
    "scrolled": false
   },
   "outputs": [
    {
     "data": {
      "image/png": "[encoded data removed]",
      "text/plain": [
       "<Figure size 432x288 with 1 Axes>"
      ]
     },
     "metadata": {
      "needs_background": "light"
     },
     "output_type": "display_data"
    }
   ],
   "source": [
    "import matplotlib.pyplot as plt\n",
    "\n",
    "def print_box_plot(data, title):\n",
    "    fig = plt.figure()\n",
    "    ax = fig.add_axes([0,0,1,1])\n",
    "    plt.title(title, fontsize=16)\n",
    "    bp = ax.boxplot(data)\n",
    "    plt.show()\n",
    "\n",
    "print_box_plot(same_mol_score_differences, \"Score difference of pairs \\n of Spectra from the same Molecule\\n\")"
   ]
  },
  {
   "cell_type": "code",
   "execution_count": 267,
   "metadata": {},
   "outputs": [
    {
     "data": {
      "image/png": "[encoded data removed]",
      "text/plain": [
       "<Figure size 432x288 with 1 Axes>"
      ]
     },
     "metadata": {
      "needs_background": "light"
     },
     "output_type": "display_data"
    }
   ],
   "source": [
    "print_box_plot(diff_mol_score_differences, \"Score difference of pairs \\n of Spectra from different Molecules \\n\")"
   ]
  }
 ],
 "metadata": {
  "kernelspec": {
   "display_name": "Python 3",
   "language": "python",
   "name": "python3"
  },
  "language_info": {
   "codemirror_mode": {
    "name": "ipython",
    "version": 3
   },
   "file_extension": ".py",
   "mimetype": "text/x-python",
   "name": "python",
   "nbconvert_exporter": "python",
   "pygments_lexer": "ipython3",
   "version": "3.7.8"
  }
 },
 "nbformat": 4,
 "nbformat_minor": 4
}
