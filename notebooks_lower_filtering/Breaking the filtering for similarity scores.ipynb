{
 "cells": [
  {
   "cell_type": "markdown",
   "metadata": {},
   "source": [
    "# Obtaining the data from the Mona File\n",
    "\n",
    "## Getting the path for Mona file\n",
    "\n",
    "Using the method load_from_msp, the information inside the Mona file is being obtained."
   ]
  },
  {
   "cell_type": "code",
   "execution_count": 1,
   "metadata": {},
   "outputs": [],
   "source": [
    "import os\n",
    "\n",
    "ROOT = os.path.abspath(os.path.join(os.getcwd()))\n",
    "path = os.path.join(os.path.dirname(os.getcwd()), \"data\")\n",
    "msp_file = os.path.join(path, \"MoNA-export-GC-MS.msp\")"
   ]
  },
  {
   "cell_type": "markdown",
   "metadata": {},
   "source": [
    "## Importing Spectr from msp"
   ]
  },
  {
   "cell_type": "code",
   "execution_count": 2,
   "metadata": {},
   "outputs": [
    {
     "name": "stdout",
     "output_type": "stream",
     "text": [
      "Number of Spectra: 14847\n"
     ]
    }
   ],
   "source": [
    "from matchms.importing import load_from_msp\n",
    "import numpy as np\n",
    "\n",
    "\n",
    "spectrums = [s for s in load_from_msp(msp_file)]\n",
    "print(\"Number of Spectra:\", len(spectrums))"
   ]
  },
  {
   "cell_type": "markdown",
   "metadata": {},
   "source": [
    "## Appliying filters to the spectra\n",
    "\n",
    "Applied filters are:\n",
    "* select_by_mz(s, **mz_from=0**, **mz_to=1000**)\n",
    "* normalize_intensities(s)\n",
    "* select_by_relative_intensity(s, **intensity_from=0.05**, **intensity_to=0.3**)"
   ]
  },
  {
   "cell_type": "code",
   "execution_count": 3,
   "metadata": {},
   "outputs": [],
   "source": [
    "from matchms.filtering import normalize_intensities\n",
    "from matchms.filtering import select_by_mz\n",
    "from matchms.filtering import select_by_relative_intensity\n",
    "\n",
    "def apply_my_filters(s):\n",
    "    s = select_by_mz(s, mz_from=0, mz_to=1000)\n",
    "    s = normalize_intensities(s)\n",
    "    s = select_by_relative_intensity(s, intensity_from=0.05, intensity_to=1)\n",
    "    return s\n"
   ]
  },
  {
   "cell_type": "markdown",
   "metadata": {},
   "source": [
    "## Dividing spectra in groups of the same and different molecule"
   ]
  },
  {
   "cell_type": "code",
   "execution_count": 4,
   "metadata": {},
   "outputs": [],
   "source": [
    "import random\n",
    "\n",
    "def group_by_inchikey(spectrums):\n",
    "    grouped_spectrum = []\n",
    "    inchikeys = []\n",
    "    for s in spectrums:\n",
    "        inchikey = s.metadata.get('inchikey').split('-', 1)[0]\n",
    "        if inchikey not in inchikeys:\n",
    "            inchikeys.append(inchikey)\n",
    "            grouped_spectrum.append([s]) \n",
    "        else:\n",
    "            index = inchikeys.index(inchikey)\n",
    "            grouped_spectrum[index].append(s)\n",
    "    print(len(grouped_spectrum), \"unique molecules\")\n",
    "    return grouped_spectrum\n",
    "\n",
    "def grouped_by_same_mol(spectrums):\n",
    "    group_spectra_same_molecule = random.sample([k for k in group_by_inchikey(spectrums) if len(k) == 2], 1000)\n",
    "    return group_spectra_same_molecule\n",
    "\n",
    "def grouped_by_diff_mol(spectrums):\n",
    "    group_spectra_diff_molecule = [[g[0]] for g in grouped_by_same_mol(spectrums)]\n",
    "\n",
    "    for k, e in enumerate(group_spectra_diff_molecule):\n",
    "        diff_mol = random.sample(spectrums, 1)\n",
    "        while e[0].metadata['inchikey'].split('-', 1)[0] == diff_mol[0].metadata['inchikey'].split('-', 1)[0]:\n",
    "            diff_mol = random.sample(spectrums, 1)\n",
    "        group_spectra_diff_molecule[k].append(diff_mol[0])\n",
    "    \n",
    "    return group_spectra_diff_molecule"
   ]
  },
  {
   "cell_type": "code",
   "execution_count": 5,
   "metadata": {},
   "outputs": [
    {
     "name": "stdout",
     "output_type": "stream",
     "text": [
      "9006 unique molecules\n",
      "9006 unique molecules\n"
     ]
    }
   ],
   "source": [
    "same_mol_spectra = grouped_by_same_mol(spectrums)\n",
    "diff_mol_spectra = grouped_by_diff_mol(spectrums)"
   ]
  },
  {
   "cell_type": "markdown",
   "metadata": {},
   "source": [
    "## Selecting a sample of a thousand pairs of spectra of the same and different molecule"
   ]
  },
  {
   "cell_type": "code",
   "execution_count": 6,
   "metadata": {},
   "outputs": [],
   "source": [
    "import numpy as np\n",
    "\n",
    "def select_1000_spectra(data):\n",
    "    temp = [data[i] for i in range(1000)]\n",
    "    return [[s[0], s[1]] for s in temp]\n",
    "            \n",
    "same_mol_one_k_sample = select_1000_spectra(same_mol_spectra)\n",
    "diff_mol_one_k_sample = select_1000_spectra(diff_mol_spectra)\n"
   ]
  },
  {
   "cell_type": "markdown",
   "metadata": {},
   "source": [
    "## Computing the Similarity score\n",
    "\n",
    "The similarity algorithm used is Greedy with the Demuth powers due to the likeliness to Spec2Vec\n",
    "Similarity scores of one thousand spectra is being computed"
   ]
  },
  {
   "cell_type": "code",
   "execution_count": 7,
   "metadata": {},
   "outputs": [],
   "source": [
    "from datetime import datetime\n",
    "from matchms import calculate_scores\n",
    "from matchms.similarity import CosineGreedy\n",
    "import numpy as np\n",
    "\n",
    "def calculate_similarity_scores(spectrums, tolerance=0.1):\n",
    "    \n",
    "    similarity_measure = CosineGreedy(tolerance, 0.0, 0.33)\n",
    "    similarity_scores, n_matches = [], []\n",
    "    \n",
    "    for s in spectrums:\n",
    "        similarity_temp, n_matches_temp = similarity_measure(s[0], s[1])\n",
    "        similarity_scores.append(similarity_temp)\n",
    "        n_matches.append(n_matches_temp)\n",
    "    \n",
    "    return similarity_scores, n_matches"
   ]
  },
  {
   "cell_type": "markdown",
   "metadata": {},
   "source": [
    "## Applying filters to the spectra\n",
    "\n",
    "Aplpying filters to the spectra and obtaining which of those spectra lose all their peaks after filtering"
   ]
  },
  {
   "cell_type": "code",
   "execution_count": 8,
   "metadata": {},
   "outputs": [
    {
     "name": "stdout",
     "output_type": "stream",
     "text": [
      "2 indexes to delete:  [653, 767]\n"
     ]
    }
   ],
   "source": [
    "\n",
    "def filter_spectra(spectrums):\n",
    "    temp_filtered, indexes_to_remove = [], []\n",
    "    for k, spectre in enumerate(spectrums):\n",
    "        temp_filtered.append([apply_my_filters(s) for s in spectre])\n",
    "        indexes_to_remove += [k for s in temp_filtered[-1] if len(s.peaks.intensities) <= 0]\n",
    "    return temp_filtered, indexes_to_remove\n",
    "\n",
    "same_mol_one_k_sample_filtered, same_mol_indexes_to_remove = filter_spectra(same_mol_one_k_sample)\n",
    "\n",
    "print(f\"{len(same_mol_indexes_to_remove)} indexes to delete: \", same_mol_indexes_to_remove)"
   ]
  },
  {
   "cell_type": "markdown",
   "metadata": {},
   "source": [
    "## Removing spectra without peaks\n",
    "\n",
    "the same indexes of spectra with no peaks are removed from the spectra which was not filtered, due to consistency when computing the difference in the similarity scores"
   ]
  },
  {
   "cell_type": "code",
   "execution_count": 9,
   "metadata": {},
   "outputs": [],
   "source": [
    "\n",
    "same_mol_one_k_sample = [s for k, s in enumerate(same_mol_one_k_sample) if k not in same_mol_indexes_to_remove]\n",
    "same_mol_one_k_sample_filtered = [s for k, s in enumerate(same_mol_one_k_sample_filtered) if k not in same_mol_indexes_to_remove]\n"
   ]
  },
  {
   "cell_type": "markdown",
   "metadata": {},
   "source": [
    "## Applying filters to spectra of different molecules"
   ]
  },
  {
   "cell_type": "code",
   "execution_count": 10,
   "metadata": {},
   "outputs": [
    {
     "name": "stdout",
     "output_type": "stream",
     "text": [
      "0 indexes without peaks ater filtering\n"
     ]
    }
   ],
   "source": [
    "\n",
    "diff_mol_one_k_sample_filtered, diff_mol_indexes_to_remove = filter_spectra(diff_mol_one_k_sample)\n",
    "\n",
    "print(f\"{len(diff_mol_indexes_to_remove)} indexes without peaks ater filtering\")\n"
   ]
  },
  {
   "cell_type": "markdown",
   "metadata": {},
   "source": [
    "## Removing spectra without peaks"
   ]
  },
  {
   "cell_type": "code",
   "execution_count": 11,
   "metadata": {},
   "outputs": [
    {
     "name": "stdout",
     "output_type": "stream",
     "text": [
      "1000  pairs of spectra of different molecule are remaining\n"
     ]
    }
   ],
   "source": [
    "\n",
    "diff_mol_one_k_sample = [s for k, s in enumerate(diff_mol_one_k_sample) if k not in diff_mol_indexes_to_remove]\n",
    "diff_mol_one_k_sample_filtered = [s for k, s in enumerate(diff_mol_one_k_sample_filtered) if k not in diff_mol_indexes_to_remove]\n",
    "\n",
    "print(len(diff_mol_one_k_sample), \" pairs of spectra of different molecule are remaining\")"
   ]
  },
  {
   "cell_type": "markdown",
   "metadata": {},
   "source": [
    "## Computing similarity scores for both group of spectra without filters"
   ]
  },
  {
   "cell_type": "code",
   "execution_count": 12,
   "metadata": {},
   "outputs": [],
   "source": [
    "\n",
    "same_mol_similarities_unfiltered, same_mol_matches_unfiltered = calculate_similarity_scores(same_mol_one_k_sample, 0.5)\n",
    "diff_mol_similarities_unfiltered, diff_mol_matches_unfiltered = calculate_similarity_scores(diff_mol_one_k_sample, 0.5)\n"
   ]
  },
  {
   "cell_type": "markdown",
   "metadata": {},
   "source": [
    "## Computing similarity scores for both group of spectra after applying filters"
   ]
  },
  {
   "cell_type": "code",
   "execution_count": 13,
   "metadata": {},
   "outputs": [],
   "source": [
    "\n",
    "same_mol_similarities_filtered, same_mol_matches_filtered = calculate_similarity_scores(same_mol_one_k_sample_filtered, 0.5)\n",
    "diff_mol_similarities_filtered, diff_mol_matches_filtered = calculate_similarity_scores(diff_mol_one_k_sample_filtered, 0.5)\n"
   ]
  },
  {
   "cell_type": "markdown",
   "metadata": {},
   "source": [
    "## Computing scores difference"
   ]
  },
  {
   "cell_type": "code",
   "execution_count": 14,
   "metadata": {
    "scrolled": false
   },
   "outputs": [
    {
     "name": "stdout",
     "output_type": "stream",
     "text": [
      "Remaining Spectra of the same molecule: 998\n",
      "Remaining Spectra of different molecules: 1000\n"
     ]
    }
   ],
   "source": [
    "\n",
    "def compute_differences(unfiltered_spectra, filtered_spectra):\n",
    "    assert len(unfiltered_spectra) == len(filtered_spectra), \"The size of the lists need to be the same\"\n",
    "    \n",
    "    difference_scores = []\n",
    "    for i in range(len(unfiltered_spectra)):\n",
    "        difference = abs(unfiltered_spectra[i] - filtered_spectra[i])\n",
    "        if np.isnan(difference):\n",
    "            print(difference,i,  unfiltered_spectra[i], filtered_spectra[i])\n",
    "        difference_scores.append(difference)\n",
    "    return difference_scores\n",
    "\n",
    "same_mol_score_differences = compute_differences(same_mol_similarities_unfiltered, same_mol_similarities_filtered)\n",
    "diff_mol_score_differences = compute_differences(diff_mol_similarities_unfiltered, diff_mol_similarities_filtered)\n",
    "\n",
    "print(f'Remaining Spectra of the same molecule: {len(same_mol_score_differences)}')\n",
    "print(f'Remaining Spectra of different molecules: {len(diff_mol_score_differences)}')"
   ]
  },
  {
   "cell_type": "markdown",
   "metadata": {},
   "source": [
    " ## Plotting score difference"
   ]
  },
  {
   "cell_type": "code",
   "execution_count": 15,
   "metadata": {
    "scrolled": false
   },
   "outputs": [
    {
     "data": {
      "image/png": "[encoded data removed]",
      "text/plain": [
       "<Figure size 432x288 with 1 Axes>"
      ]
     },
     "metadata": {
      "needs_background": "light"
     },
     "output_type": "display_data"
    }
   ],
   "source": [
    "import matplotlib.pyplot as plt\n",
    "\n",
    "def print_box_plot(data, title):\n",
    "    fig = plt.figure()\n",
    "    ax = fig.add_axes([0,0,1,1])\n",
    "    plt.title(title, fontsize=16)\n",
    "    bp = ax.boxplot(data)\n",
    "    plt.show()\n",
    "\n",
    "print_box_plot(same_mol_score_differences, \"Score difference of pairs \\n of Spectra from the same Molecule\\n\")"
   ]
  },
  {
   "cell_type": "code",
   "execution_count": 16,
   "metadata": {},
   "outputs": [
    {
     "data": {
      "image/png": "[encoded data removed]",
      "text/plain": [
       "<Figure size 432x288 with 1 Axes>"
      ]
     },
     "metadata": {
      "needs_background": "light"
     },
     "output_type": "display_data"
    }
   ],
   "source": [
    "print_box_plot(diff_mol_score_differences, \"Score difference of pairs \\n of Spectra from different Molecules \\n\")"
   ]
  }
 ],
 "metadata": {
  "kernelspec": {
   "display_name": "Python 3",
   "language": "python",
   "name": "python3"
  },
  "language_info": {
   "codemirror_mode": {
    "name": "ipython",
    "version": 3
   },
   "file_extension": ".py",
   "mimetype": "text/x-python",
   "name": "python",
   "nbconvert_exporter": "python",
   "pygments_lexer": "ipython3",
   "version": "3.7.8"
  }
 },
 "nbformat": 4,
 "nbformat_minor": 4
}
