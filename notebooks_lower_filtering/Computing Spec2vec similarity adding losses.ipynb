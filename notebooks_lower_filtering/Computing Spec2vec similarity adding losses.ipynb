{
 "cells": [
  {
   "cell_type": "markdown",
   "metadata": {},
   "source": [
    "# Obtaining the data from the Mona File\n",
    "\n",
    "## Getting the path for Mona file\n",
    "\n",
    "Using the method load_from_msp, the information inside the Mona file is being obtained."
   ]
  },
  {
   "cell_type": "code",
   "execution_count": 1,
   "metadata": {},
   "outputs": [],
   "source": [
    "import os\n",
    "\n",
    "path = os.path.join(os.path.dirname(os.getcwd()), \"data\")\n",
    "msp_file = os.path.join(path, \"MoNA-export-GC-MS.msp\")"
   ]
  },
  {
   "cell_type": "markdown",
   "metadata": {},
   "source": [
    "## Appliying filters to the spectra\n",
    "\n",
    "Applied filters are:\n",
    "* normalize_intensities(s)\n",
    "* select_by_mz(s, mz_from=0, mz_to=1000)\n",
    "* select_by_relative_intensity(s, intensity_from=0.05, intensity_to=1.0)"
   ]
  },
  {
   "cell_type": "code",
   "execution_count": 2,
   "metadata": {},
   "outputs": [
    {
     "name": "stdout",
     "output_type": "stream",
     "text": [
      "Number of Spectra: 14847\n"
     ]
    }
   ],
   "source": [
    "from matchms.importing import load_from_msp\n",
    "\n",
    "spectrums = [s for s in load_from_msp(msp_file)]\n",
    "print(\"Number of Spectra:\", len(spectrums))"
   ]
  },
  {
   "cell_type": "code",
   "execution_count": 15,
   "metadata": {},
   "outputs": [
    {
     "name": "stderr",
     "output_type": "stream",
     "text": [
      "/usr/local/anaconda3/envs/gcms-analysis/lib/python3.7/site-packages/ipykernel_launcher.py:23: VisibleDeprecationWarning: Creating an ndarray from ragged nested sequences (which is a list-or-tuple of lists-or-tuples-or ndarrays with different lengths or shapes) is deprecated. If you meant to do this, you must specify 'dtype=object' when creating the ndarray\n"
     ]
    }
   ],
   "source": [
    "import numpy as np\n",
    "\n",
    "spectrums_sample = spectrums[0:300]\n",
    "all_differences = []\n",
    "\n",
    "for spectrum in spectrums_sample:\n",
    "    \n",
    "    mzs, intensities = spectrum.peaks\n",
    "\n",
    "    differences = np.zeros([len(mzs), len(mzs)])\n",
    "\n",
    "    for i in range(len(mzs)):\n",
    "        count = 0\n",
    "        for k in range(len(mzs)):\n",
    "            if mzs[i] < mzs[k]:\n",
    "                subtr_diff = mzs[i] - mzs[k]\n",
    "            else:\n",
    "                subtr_diff = mzs[k] - mzs[i]\n",
    "            differences[i][k] = subtr_diff\n",
    "    \n",
    "    all_differences.append(differences)\n",
    "\n",
    "all_differences = np.array(all_differences)"
   ]
  },
  {
   "cell_type": "code",
   "execution_count": 24,
   "metadata": {},
   "outputs": [],
   "source": [
    "all_shifts = []\n",
    "for spectrum in all_differences:\n",
    "    shifts = []\n",
    "    mean = 0\n",
    "    for idx, matrix_differences in enumerate(spectrum):\n",
    "        count = 0\n",
    "        for difference in matrix_differences:\n",
    "            if difference < 0:\n",
    "                count += 1\n",
    "        shifts.append(count)\n",
    "    all_shifts.append(np.mean(shifts))\n",
    "all_shifts = np.array(all_shifts)"
   ]
  },
  {
   "cell_type": "code",
   "execution_count": 30,
   "metadata": {},
   "outputs": [
    {
     "name": "stdout",
     "output_type": "stream",
     "text": [
      "[ 74.  63.  35.  43.  32.  41.  36.  31.  64.  65.  35.  37.  43.  25.\n",
      "  32.  30.  31.  33.  24.  19.  18.  25.  22.  24.  24.  14.  16. 117.\n",
      "  21.  29.  24.  28.  18.  30.  41.   9.  11.  10.  21.  17.  18.  19.\n",
      "  37.  22.  21.  31.  15.  25.  31.  21.  20.  25.  24.  20.  25.  20.\n",
      "  26.  20.  33.  21.  27.  27.  29.  27.  20.  20.  16.  15.  19.  15.\n",
      "  19.  16.  19.  22.  17.  21.  19.  23.  23.  25.  19.  17.  24.  19.\n",
      "  19.  22.  21.  53.  44.  46.  37.  77.  43.  42.  24.  49.  26.  18.\n",
      "   6.  37.  34.  18.  41.  54.  53.  41.  46.  77.  69.  86.  67.  53.\n",
      " 111.  34.  40.  53.  36.  34.  32.  59.  55.  33.  46.  20.  25.  49.\n",
      "  44.  52.  45.  26.  38.  66.  35.  34.  36.  35. 160. 140. 153.  44.\n",
      " 187.  65.  59.  89.  45.  79. 159.  48.  24.  24.  22.  20.  24.  19.\n",
      "  24.  21.  29.  23.  19.  27.  24.  28.  24.  27.  30.  29.  23.  25.\n",
      "  29.  27.  32.  25.  23.  22.  27.  25.  29.  16.  22.  34.  26.  21.\n",
      "  22.  22.  28.  30.  36.  24.  34.  27.  31.  36.  39.  38.  34.  37.\n",
      "  29.  28.  28.  38.  29.  41.  14.  15.  13.  15.  19.  15.  14.  15.\n",
      "  15.  16.  15.  15.  15.  64.  47.  36.  46.  41.  41.  42.  57.  45.\n",
      "  30.  26.  16.  15.  18.  20.  22.  24.  24.  30.  34.  15.  24.  24.\n",
      "  20.  17.  18.  26.  23.  14.  15.  27.  32.  16.  27.  23.  26.  18.\n",
      "  30.  32.  25.  17.  18.  18.  28.  29.  31.  42.  25.  19.  50.  52.\n",
      "  33.  31.  34.  29.  21.  25.  25.  27.  24.  24.  20.  16.  22.  20.\n",
      "  20.  23.  25.  26.  20.  26.  27.  65.  23.  15.  30. 163. 111.  21.\n",
      "  60.  63.  31.  33. 122.  70.]\n",
      "(75,)\n",
      "(64,)\n",
      "(36,)\n",
      "(44,)\n",
      "(33,)\n",
      "(42,)\n",
      "(37,)\n",
      "(32,)\n",
      "(65,)\n",
      "(66,)\n",
      "(36,)\n",
      "(38,)\n",
      "(44,)\n",
      "(26,)\n",
      "(33,)\n",
      "(31,)\n",
      "(32,)\n",
      "(34,)\n",
      "(25,)\n",
      "(20,)\n",
      "(19,)\n",
      "(26,)\n",
      "(23,)\n",
      "(25,)\n",
      "(25,)\n",
      "(15,)\n",
      "(17,)\n",
      "(118,)\n",
      "(22,)\n",
      "(30,)\n",
      "(25,)\n",
      "(29,)\n",
      "(19,)\n",
      "(31,)\n",
      "(42,)\n",
      "(10,)\n",
      "(12,)\n",
      "(11,)\n",
      "(22,)\n",
      "(18,)\n",
      "(19,)\n",
      "(20,)\n",
      "(38,)\n",
      "(23,)\n",
      "(22,)\n",
      "(32,)\n",
      "(16,)\n",
      "(26,)\n",
      "(32,)\n",
      "(22,)\n",
      "(21,)\n",
      "(26,)\n",
      "(25,)\n",
      "(21,)\n",
      "(26,)\n",
      "(21,)\n",
      "(27,)\n",
      "(21,)\n",
      "(34,)\n",
      "(22,)\n",
      "(28,)\n",
      "(28,)\n",
      "(30,)\n",
      "(28,)\n",
      "(21,)\n",
      "(21,)\n",
      "(17,)\n",
      "(16,)\n",
      "(20,)\n",
      "(16,)\n",
      "(20,)\n",
      "(17,)\n",
      "(20,)\n",
      "(23,)\n",
      "(18,)\n",
      "(22,)\n",
      "(20,)\n",
      "(24,)\n",
      "(24,)\n",
      "(26,)\n",
      "(20,)\n",
      "(18,)\n",
      "(25,)\n",
      "(20,)\n",
      "(20,)\n",
      "(23,)\n",
      "(22,)\n",
      "(54,)\n",
      "(45,)\n",
      "(47,)\n",
      "(38,)\n",
      "(78,)\n",
      "(44,)\n",
      "(43,)\n",
      "(25,)\n",
      "(50,)\n",
      "(27,)\n",
      "(19,)\n",
      "(7,)\n",
      "(38,)\n",
      "(35,)\n",
      "(19,)\n",
      "(42,)\n",
      "(55,)\n",
      "(54,)\n",
      "(42,)\n",
      "(47,)\n",
      "(78,)\n",
      "(70,)\n",
      "(87,)\n",
      "(68,)\n",
      "(54,)\n",
      "(112,)\n",
      "(35,)\n",
      "(41,)\n",
      "(54,)\n",
      "(37,)\n",
      "(35,)\n",
      "(33,)\n",
      "(60,)\n",
      "(56,)\n",
      "(34,)\n",
      "(47,)\n",
      "(21,)\n",
      "(26,)\n",
      "(50,)\n",
      "(45,)\n",
      "(53,)\n",
      "(46,)\n",
      "(27,)\n",
      "(39,)\n",
      "(67,)\n",
      "(36,)\n",
      "(35,)\n",
      "(37,)\n",
      "(36,)\n",
      "(161,)\n",
      "(141,)\n",
      "(154,)\n",
      "(45,)\n",
      "(188,)\n",
      "(66,)\n",
      "(60,)\n",
      "(90,)\n",
      "(46,)\n",
      "(80,)\n",
      "(160,)\n",
      "(49,)\n",
      "(25,)\n",
      "(25,)\n",
      "(23,)\n",
      "(21,)\n",
      "(25,)\n",
      "(20,)\n",
      "(25,)\n",
      "(22,)\n",
      "(30,)\n",
      "(24,)\n",
      "(20,)\n",
      "(28,)\n",
      "(25,)\n",
      "(29,)\n",
      "(25,)\n",
      "(28,)\n",
      "(31,)\n",
      "(30,)\n",
      "(24,)\n",
      "(26,)\n",
      "(30,)\n",
      "(28,)\n",
      "(33,)\n",
      "(26,)\n",
      "(24,)\n",
      "(23,)\n",
      "(28,)\n",
      "(26,)\n",
      "(30,)\n",
      "(17,)\n",
      "(23,)\n",
      "(35,)\n",
      "(27,)\n",
      "(22,)\n",
      "(23,)\n",
      "(23,)\n",
      "(29,)\n",
      "(31,)\n",
      "(37,)\n",
      "(25,)\n",
      "(35,)\n",
      "(28,)\n",
      "(32,)\n",
      "(37,)\n",
      "(40,)\n",
      "(39,)\n",
      "(35,)\n",
      "(38,)\n",
      "(30,)\n",
      "(29,)\n",
      "(29,)\n",
      "(39,)\n",
      "(30,)\n",
      "(42,)\n",
      "(15,)\n",
      "(16,)\n",
      "(14,)\n",
      "(16,)\n",
      "(20,)\n",
      "(16,)\n",
      "(15,)\n",
      "(16,)\n",
      "(16,)\n",
      "(17,)\n",
      "(16,)\n",
      "(16,)\n",
      "(16,)\n",
      "(65,)\n",
      "(48,)\n",
      "(37,)\n",
      "(47,)\n",
      "(42,)\n",
      "(42,)\n",
      "(43,)\n",
      "(58,)\n",
      "(46,)\n",
      "(31,)\n",
      "(27,)\n",
      "(17,)\n",
      "(16,)\n",
      "(19,)\n",
      "(21,)\n",
      "(23,)\n",
      "(25,)\n",
      "(25,)\n",
      "(31,)\n",
      "(35,)\n",
      "(16,)\n",
      "(25,)\n",
      "(25,)\n",
      "(21,)\n",
      "(18,)\n",
      "(19,)\n",
      "(27,)\n",
      "(24,)\n",
      "(15,)\n",
      "(16,)\n",
      "(28,)\n",
      "(33,)\n",
      "(17,)\n",
      "(28,)\n",
      "(24,)\n",
      "(27,)\n",
      "(19,)\n",
      "(31,)\n",
      "(33,)\n",
      "(26,)\n",
      "(18,)\n",
      "(19,)\n",
      "(19,)\n",
      "(29,)\n",
      "(30,)\n",
      "(32,)\n",
      "(43,)\n",
      "(26,)\n",
      "(20,)\n",
      "(51,)\n",
      "(53,)\n",
      "(34,)\n",
      "(32,)\n",
      "(35,)\n",
      "(30,)\n",
      "(22,)\n",
      "(26,)\n",
      "(26,)\n",
      "(28,)\n",
      "(25,)\n",
      "(25,)\n",
      "(21,)\n",
      "(17,)\n",
      "(23,)\n",
      "(21,)\n",
      "(21,)\n",
      "(24,)\n",
      "(26,)\n",
      "(27,)\n",
      "(21,)\n",
      "(27,)\n",
      "(28,)\n",
      "(66,)\n",
      "(24,)\n",
      "(16,)\n",
      "(31,)\n",
      "(164,)\n",
      "(112,)\n",
      "(22,)\n",
      "(61,)\n",
      "(64,)\n",
      "(32,)\n",
      "(34,)\n",
      "(123,)\n",
      "(71,)\n"
     ]
    }
   ],
   "source": [
    "print(all_shifts)\n",
    "for s in spectrums_sample:\n",
    "    print(s.peaks[0].shape)"
   ]
  },
  {
   "cell_type": "code",
   "execution_count": null,
   "metadata": {},
   "outputs": [],
   "source": [
    "all_means = []\n",
    "for spectrum in all_differences:\n",
    "    means = np.zeros([len(spectrum)])\n",
    "    for idx, difference in enumerate(spectrum):\n",
    "        means[idx] = np.mean(difference)\n",
    "    all_means.append(means)\n",
    "    \n",
    "all_means = np.array(all_means)"
   ]
  },
  {
   "cell_type": "code",
   "execution_count": null,
   "metadata": {},
   "outputs": [],
   "source": [
    "all_shift_counts = []\n",
    "for spectrum in all_means:\n",
    "    shift_count = 0\n",
    "    for mean in spectrum:\n",
    "        int_value = int(mean)\n",
    "        if int_value - mean != 0:\n",
    "            shift_count += 1\n",
    "    all_shift_counts.append(shift_count)\n",
    "\n",
    "all_shift_counts = np.array(all_shift_counts)"
   ]
  },
  {
   "cell_type": "markdown",
   "metadata": {},
   "source": [
    "## Adding random precursor mz from 150 to 650"
   ]
  },
  {
   "cell_type": "code",
   "execution_count": null,
   "metadata": {},
   "outputs": [],
   "source": [
    "def add_random_loss(spectrum):\n",
    "    random_precursor_mz = np.random.randint(150, 650)\n",
    "    spectrum.set(\"precursor_mz\", random_precursor_mz)\n",
    "    return spectrum\n",
    "\n",
    "spectrums_w_losses = [add_random_loss(s) for s in spectrums]"
   ]
  },
  {
   "cell_type": "code",
   "execution_count": null,
   "metadata": {},
   "outputs": [],
   "source": [
    "from matchms.filtering import normalize_intensities\n",
    "from matchms.filtering import select_by_mz\n",
    "from matchms.filtering import select_by_relative_intensity\n",
    "\n",
    "def apply_my_filters(s):\n",
    "    s = normalize_intensities(s)\n",
    "    s = select_by_mz(s, mz_from=0, mz_to=1000)\n",
    "    s = select_by_relative_intensity(s, intensity_from=0.05, intensity_to=1.0)\n",
    "    s = add_losses(s, loss_mz_from=10.0, loss_mz_to=200.0)\n",
    "    return s\n",
    "\n",
    "spectrums = [apply_my_filters(s) for s in spectrums_w_losses]\n",
    "\n",
    "spectrums = [s for s in spectrums if s is not None]\n",
    "\n",
    "#Filter spectra with peak intensities length equals or less than zero\n",
    "spectrums = [s for s in spectrums if len(s.peaks.intensities) > 0]\n",
    "\n",
    "print(\"Number of Spectra:\", len(spectrums))"
   ]
  },
  {
   "cell_type": "markdown",
   "metadata": {},
   "source": [
    "## Converting Spectrum objects to Spectrum Documents"
   ]
  },
  {
   "cell_type": "code",
   "execution_count": null,
   "metadata": {},
   "outputs": [],
   "source": [
    "from spec2vec import SpectrumDocument\n",
    "\n",
    "reference_documents = [SpectrumDocument(s) for s in spectrums]\n",
    "\n",
    "print(len(reference_documents))"
   ]
  },
  {
   "cell_type": "markdown",
   "metadata": {},
   "source": [
    "## Training the word2vec model\n",
    "\n",
    "Data used for training the model:\\\n",
    "**Iterarions=10, 20, 30**\\\n",
    "**Workers=2**\n",
    "\n",
    "Once the model is trained the file \"references.model\" is stored for further use in the score calculation"
   ]
  },
  {
   "cell_type": "code",
   "execution_count": null,
   "metadata": {
    "scrolled": true
   },
   "outputs": [],
   "source": [
    "from spec2vec.model_building import train_new_word2vec_model\n",
    "    \n",
    "model_file = os.path.join(path, \"references.model\")\n",
    "model = train_new_word2vec_model(documents=reference_documents, filename=model_file, \n",
    "                                 size=500, iterations=[10, 20, 30], \n",
    "                                 workers=2, progress_logger=False)"
   ]
  },
  {
   "cell_type": "markdown",
   "metadata": {},
   "source": [
    "## Setting the reference and query data\n",
    "\n",
    "All Spectra in the Monna file will be used to try to find them using the Spec2VecParallel method"
   ]
  },
  {
   "cell_type": "code",
   "execution_count": null,
   "metadata": {},
   "outputs": [],
   "source": [
    "spectrums_file = os.path.join(path, \"MoNA-export-GC-MS.msp\")"
   ]
  },
  {
   "cell_type": "markdown",
   "metadata": {},
   "source": [
    "### Setting the reference Spectrums"
   ]
  },
  {
   "cell_type": "code",
   "execution_count": null,
   "metadata": {},
   "outputs": [],
   "source": [
    "reference_spectrums = [apply_my_filters(s) for s in load_from_msp(spectrums_file)]\n",
    "\n",
    "reference_spectrums = [s for s in reference_spectrums if s is not None]\n",
    "\n",
    "#Filter spectra with peak intensities length equals or less than zero\n",
    "reference_spectrums = [s for s in reference_spectrums if len(s.peaks.intensities) > 0]"
   ]
  },
  {
   "cell_type": "markdown",
   "metadata": {},
   "source": [
    "### Converting the reference Spectrums to Spectrums Documents"
   ]
  },
  {
   "cell_type": "code",
   "execution_count": null,
   "metadata": {},
   "outputs": [],
   "source": [
    "reference_documents = [SpectrumDocument(s) for s in reference_spectrums]"
   ]
  },
  {
   "cell_type": "markdown",
   "metadata": {},
   "source": [
    "### Setting the query Spectrums"
   ]
  },
  {
   "cell_type": "code",
   "execution_count": null,
   "metadata": {},
   "outputs": [],
   "source": [
    "query_spectrums = [apply_my_filters(s) for s in load_from_msp(spectrums_file)]\n",
    "\n",
    "query_spectrums = [s for s in query_spectrums if s is not None]\n",
    "\n",
    "#Filter spectra with peak intensities length equals or less than zero\n",
    "query_spectrums = [s for s in query_spectrums if len(s.peaks.intensities) > 0]"
   ]
  },
  {
   "cell_type": "markdown",
   "metadata": {},
   "source": [
    "### Converting the query Spectrums to Spectrums Documents"
   ]
  },
  {
   "cell_type": "code",
   "execution_count": null,
   "metadata": {},
   "outputs": [],
   "source": [
    "query_documents = [SpectrumDocument(s) for s in query_spectrums]"
   ]
  },
  {
   "cell_type": "code",
   "execution_count": null,
   "metadata": {},
   "outputs": [],
   "source": [
    "print(\"Ref docs:\", len(reference_documents), \"Query docs:\", len(query_documents))"
   ]
  },
  {
   "cell_type": "markdown",
   "metadata": {},
   "source": [
    "### Loading the model file to word2vec for the similarity function\n",
    "\n",
    "Parameters for the similarity function:\\\n",
    "**intensity_weighting_power=0.5**\\\n",
    "**allowed_missing_percentage=5.0**"
   ]
  },
  {
   "cell_type": "code",
   "execution_count": null,
   "metadata": {},
   "outputs": [],
   "source": [
    "import gensim\n",
    "from matchms import calculate_scores_parallel\n",
    "from spec2vec import Spec2VecParallel\n",
    "\n",
    "model_file = os.path.join(path, \"references_iter_10.model\")\n",
    "model = gensim.models.Word2Vec.load(model_file)\n",
    "    \n",
    "# Define similarity_function\n",
    "spec2vec = Spec2VecParallel(model=model, intensity_weighting_power=0.5,\n",
    "                            allowed_missing_percentage=5.0)"
   ]
  },
  {
   "cell_type": "markdown",
   "metadata": {},
   "source": [
    "### Calculating the similarity of the reference and query documents using Spec2vec parallel method\n",
    "\n",
    "For the calculation the same Spectrums are being used as reference and query"
   ]
  },
  {
   "cell_type": "code",
   "execution_count": null,
   "metadata": {},
   "outputs": [],
   "source": [
    "scores_spec2vec = spec2vec(reference_documents, query_documents)"
   ]
  },
  {
   "cell_type": "code",
   "execution_count": null,
   "metadata": {},
   "outputs": [],
   "source": [
    "import numpy as np\n",
    "\n",
    "filename = os.path.join(path,'similarities_filter05_spec2vec_3iter_fake_losses.npy')\n",
    "np.save(filename, scores_spec2vec)"
   ]
  }
 ],
 "metadata": {
  "kernelspec": {
   "display_name": "Python 3",
   "language": "python",
   "name": "python3"
  },
  "language_info": {
   "codemirror_mode": {
    "name": "ipython",
    "version": 3
   },
   "file_extension": ".py",
   "mimetype": "text/x-python",
   "name": "python",
   "nbconvert_exporter": "python",
   "pygments_lexer": "ipython3",
   "version": "3.7.8"
  }
 },
 "nbformat": 4,
 "nbformat_minor": 4
}
