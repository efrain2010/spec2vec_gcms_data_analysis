{
 "cells": [
  {
   "cell_type": "markdown",
   "metadata": {},
   "source": [
    "# Cosine Similarity Using MassBank powers\n",
    "\n",
    "To optimiza the m/z and intensities the powers to use will be **c = 2 d = 0.5**\n",
    "\n",
    "# Obtaining the data from the Mona File\n",
    "\n",
    "\n",
    "## Getting the path for Mona file\n",
    "\n",
    "Using the method load_from_msp, the information inside the Mona file is being obtained."
   ]
  },
  {
   "cell_type": "code",
   "execution_count": 7,
   "metadata": {},
   "outputs": [],
   "source": [
    "import os\n",
    "import sys\n",
    "\n",
    "ROOT = os.path.dirname(os.getcwd())\n",
    "path = os.path.join(os.path.dirname(os.getcwd()), \"data\")\n",
    "msp_file = os.path.join(path, \"MoNA-export-GC-MS.msp\")\n",
    "sys.path.insert(0, ROOT)"
   ]
  },
  {
   "cell_type": "markdown",
   "metadata": {},
   "source": [
    "## Appliying filters to the spectra\n",
    "\n",
    "Applied filters are:\n",
    "* normalize_intensities(s)\n",
    "* reduce_to_number_of_peaks(s, **n_required=10**, **ratio_desired=0.5**)\n",
    "* select_by_mz(s, **mz_from=0**, **mz_to=1000**)\n",
    "* require_minimum_number_of_peaks(s, **n_required=10**)"
   ]
  },
  {
   "cell_type": "code",
   "execution_count": 8,
   "metadata": {},
   "outputs": [
    {
     "name": "stdout",
     "output_type": "stream",
     "text": [
      "Number of Spectra: 14847\n"
     ]
    }
   ],
   "source": [
    "from matchms.importing import load_from_msp\n",
    "\n",
    "spectrums = [s for s in load_from_msp(msp_file)]\n",
    "print(\"Number of Spectra:\", len(spectrums))"
   ]
  },
  {
   "cell_type": "code",
   "execution_count": 9,
   "metadata": {},
   "outputs": [],
   "source": [
    "from matchms.filtering import normalize_intensities\n",
    "from matchms.filtering import select_by_mz\n",
    "from matchms.filtering import select_by_relative_intensity\n",
    "\n",
    "def apply_my_filters(s):\n",
    "    s = normalize_intensities(s)\n",
    "    s = select_by_mz(s, mz_from=0, mz_to=1000)\n",
    "    s = select_by_relative_intensity(s, intensity_from=0.05, intensity_to=1.0)\n",
    "    return s\n",
    "\n",
    "spectrums_filtered = [apply_my_filters(s) for s in spectrums]\n",
    "\n",
    "spectrums_filtered = [s for s in spectrums_filtered if s is not None]"
   ]
  },
  {
   "cell_type": "code",
   "execution_count": 10,
   "metadata": {},
   "outputs": [
    {
     "name": "stdout",
     "output_type": "stream",
     "text": [
      "Remaining number of spectra: 14847\n"
     ]
    }
   ],
   "source": [
    "print(\"Remaining number of spectra:\", len(spectrums_filtered))"
   ]
  },
  {
   "cell_type": "code",
   "execution_count": 11,
   "metadata": {},
   "outputs": [
    {
     "name": "stdout",
     "output_type": "stream",
     "text": [
      "Remaining number of spectra: 14844\n"
     ]
    }
   ],
   "source": [
    "spectrums_filtered = [s for s in spectrums_filtered if len(s.peaks.intensities) > 0]\n",
    "print(\"Remaining number of spectra:\", len(spectrums_filtered))"
   ]
  },
  {
   "cell_type": "markdown",
   "metadata": {},
   "source": [
    "# Computing the Cosine Similarity with NIST Powers\n",
    "\n",
    "## Defining the method to compute the similarity scores\n",
    "\n",
    "This method will have a **tolerance of 0.5, mz_power=2, intensity_power=0.5**, it will return an numpy array with the reference spectra, query spectra, the score and matched peaks."
   ]
  },
  {
   "cell_type": "code",
   "execution_count": 12,
   "metadata": {},
   "outputs": [
    {
     "name": "stdout",
     "output_type": "stream",
     "text": [
      "Start Time = 14:06:45\n",
      " About 99.991% completed Time = 19:52:11"
     ]
    }
   ],
   "source": [
    "from datetime import datetime\n",
    "from matchms import calculate_scores\n",
    "from matchms.similarity import CosineGreedy\n",
    "import numpy as np\n",
    "\n",
    "def calculate_similarity_scores(spectrums, tolerance=0.1):\n",
    "    \n",
    "    def get_time():\n",
    "        now = datetime.now()\n",
    "        current_time = now.strftime(\"%H:%M:%S\")\n",
    "        current_time = \"Time = \" + current_time\n",
    "        return current_time\n",
    "    \n",
    "    length_spec = len(spectrums)\n",
    "    similarities = np.zeros((length_spec, length_spec))\n",
    "    num_matches = similarities.copy()\n",
    "    \n",
    "    total_num_calculations = int((length_spec**2)/2 + 0.5 * length_spec)\n",
    "    count = 0\n",
    "    \n",
    "    similarity_measure = CosineGreedy(tolerance, 2.0, 0.5)\n",
    "    \n",
    "    print(\"Start\", get_time())\n",
    "    \n",
    "    for i in range(length_spec):\n",
    "        for j in range(i, length_spec):\n",
    "            score, matches = similarity_measure(spectrums[i], spectrums[j])\n",
    "            similarities[i, j] = score\n",
    "            num_matches[i, j] = matches\n",
    "            count += 1\n",
    "            if (count+1) % 10000 == 0:\n",
    "                print(\"\\r\", \"About {:.3f}% completed\".format(100 * count/total_num_calculations), get_time(), end=\"\")\n",
    "            \n",
    "    for i in range(1, length_spec):\n",
    "        for j in range (i):\n",
    "            similarities[i, j] = similarities[j, i]\n",
    "            num_matches[i, j] = num_matches[j, i]\n",
    "            \n",
    "    return similarities, num_matches\n",
    "            \n",
    "similarities, num_matches = calculate_similarity_scores(spectrums_filtered, 0.5)"
   ]
  },
  {
   "cell_type": "markdown",
   "metadata": {},
   "source": [
    "## Saving the matches and the similarities"
   ]
  },
  {
   "cell_type": "code",
   "execution_count": 13,
   "metadata": {},
   "outputs": [],
   "source": [
    "filename = os.path.join(path,'similarities_filt05_cosine_tol05_mzp2_intp05.npy')\n",
    "np.save(filename, similarities)\n",
    "np.save(filename.split('.')[0] + \"_matches.npy\", num_matches)"
   ]
  }
 ],
 "metadata": {
  "kernelspec": {
   "display_name": "Python 3",
   "language": "python",
   "name": "python3"
  },
  "language_info": {
   "codemirror_mode": {
    "name": "ipython",
    "version": 3
   },
   "file_extension": ".py",
   "mimetype": "text/x-python",
   "name": "python",
   "nbconvert_exporter": "python",
   "pygments_lexer": "ipython3",
   "version": "3.7.8"
  }
 },
 "nbformat": 4,
 "nbformat_minor": 4
}
