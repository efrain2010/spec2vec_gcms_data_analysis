{
 "cells": [
  {
   "cell_type": "markdown",
   "metadata": {},
   "source": [
    "## Testing similarity scores filtering for GC/MS\n",
    "\n",
    "To test the performance of the new filtering, Cosine Similarity score is computed with filter and unfilter spectra\n",
    "\n",
    "## Adjusted filtering for GC/MS\n",
    "\n",
    "The filters applied in the previous noteboooks were design for the use of LC/MS, however, due to the lack of parent mass in GC/MS and the better resolution in the scan, the filtering has been changed in ordered to obtain more peaks from the sample\n",
    "\n",
    "## Testing a thousand pairs of filtered and unfiltered spectra\n",
    "\n",
    "In order to test the new filtering in GC/MS, it is computed the Cosine similarity score of a thousand pairs of spectra from the same and different molecules"
   ]
  },
  {
   "cell_type": "code",
   "execution_count": 29,
   "metadata": {},
   "outputs": [],
   "source": [
    "import os\n",
    "import sys\n",
    "\n",
    "ROOT = os.path.dirname(os.getcwd())\n",
    "sys.path.insert(0, ROOT)"
   ]
  },
  {
   "cell_type": "markdown",
   "metadata": {},
   "source": [
    "## Obtaining the data from the Mona File"
   ]
  },
  {
   "cell_type": "code",
   "execution_count": 30,
   "metadata": {},
   "outputs": [],
   "source": [
    "from custom_functions.spectra_functions import get_data_folder_path\n",
    "\n",
    "# from_external=False to use the data folder within the project\n",
    "path = get_data_folder_path(from_external=False)\n",
    "msp_file = os.path.join(path, \"MoNA-export-GC-MS.msp\")"
   ]
  },
  {
   "cell_type": "markdown",
   "metadata": {},
   "source": [
    "## Importing Spectra from msp"
   ]
  },
  {
   "cell_type": "code",
   "execution_count": 31,
   "metadata": {},
   "outputs": [
    {
     "name": "stdout",
     "output_type": "stream",
     "text": [
      "Number of Spectra: 14847\n"
     ]
    }
   ],
   "source": [
    "from matchms.importing import load_from_msp\n",
    "\n",
    "spectrums = np.array([s for s in load_from_msp(msp_file)])\n",
    "print(\"Number of Spectra:\", len(spectrums))"
   ]
  },
  {
   "cell_type": "markdown",
   "metadata": {},
   "source": [
    "## Filters to apply to a subset of Spectra\n",
    "\n",
    "Applied filters are:\n",
    "* select_by_mz(s, **mz_from=0**, **mz_to=1000**)\n",
    "* normalize_intensities(s)\n",
    "* select_by_relative_intensity(s, **intensity_from=0.05**, **intensity_to=0.1**)\n",
    "\n",
    "Trying filtering relative intensities from 0.05 to 1"
   ]
  },
  {
   "cell_type": "code",
   "execution_count": 44,
   "metadata": {},
   "outputs": [],
   "source": [
    "from matchms.filtering import normalize_intensities\n",
    "from matchms.filtering import select_by_mz\n",
    "from matchms.filtering import select_by_relative_intensity\n",
    "from matchms.filtering import reduce_to_number_of_peaks\n",
    "from matchms.filtering import require_minimum_number_of_peaks\n",
    "\n",
    "def apply_my_filters(s):\n",
    "    s = select_by_mz(s, mz_from=0, mz_to=1000)\n",
    "    s = normalize_intensities(s)\n",
    "    s = select_by_relative_intensity(s, intensity_from=0.05, intensity_to=1)\n",
    "    return s"
   ]
  },
  {
   "cell_type": "markdown",
   "metadata": {},
   "source": [
    "## Selecting a sample of a thousand pairs of spectra of the same and different molecule"
   ]
  },
  {
   "cell_type": "code",
   "execution_count": 33,
   "metadata": {
    "scrolled": false
   },
   "outputs": [
    {
     "name": "stdout",
     "output_type": "stream",
     "text": [
      "9006 unique inchikeys\n",
      "9006 unique inchikeys\n",
      "1000 spectra of the same molecule\n",
      "1000 spectra of different molecules\n"
     ]
    }
   ],
   "source": [
    "from custom_functions.spectra_functions import grouped_by_same_mol\n",
    "from custom_functions.spectra_functions import grouped_by_diff_mol\n",
    "\n",
    "same_mol_unfiltered = grouped_by_same_mol(spectrums, 1000)\n",
    "diff_mol_unfiltered = grouped_by_diff_mol(spectrums, 1000)\n",
    "print(len(same_mol_unfiltered), \"spectra of the same molecule\")\n",
    "print(len(diff_mol_unfiltered), \"spectra of different molecules\")"
   ]
  },
  {
   "cell_type": "markdown",
   "metadata": {},
   "source": [
    "## Computing the Similarity score\n",
    "\n",
    "The similarity algorithm used to test the new filtering is Cosine Greedy with Demuth \"powers\", because it was observed in the previous notebook that its performance was most similar to spec2vec scores."
   ]
  },
  {
   "cell_type": "code",
   "execution_count": 34,
   "metadata": {},
   "outputs": [],
   "source": [
    "from matchms import calculate_scores\n",
    "from matchms.similarity import CosineGreedy\n",
    "\n",
    "def calculate_similarity_scores(spectrums, tolerance=0.1):\n",
    "    \n",
    "    similarity_measure = CosineGreedy(tolerance, 0.0, 0.33)\n",
    "    similarity_scores, n_matches = [], []\n",
    "    \n",
    "    for s in spectrums:\n",
    "        similarity_temp, n_matches_temp = similarity_measure(s[0], s[1])\n",
    "        similarity_scores.append(similarity_temp)\n",
    "        n_matches.append(n_matches_temp)\n",
    "    \n",
    "    return similarity_scores, n_matches"
   ]
  },
  {
   "cell_type": "markdown",
   "metadata": {},
   "source": [
    "## Pairs of spectra of the same molecule\n",
    "## Applying filters to the spectra and removing spectra without peaks\n",
    "\n",
    "Applying the new filtering to the spectra.\n",
    "Some spectra are left without peaks after filtering, in order to do a fair test, those spectra without peaks are removed from both spectra samples (filtered and unfiltered)"
   ]
  },
  {
   "cell_type": "code",
   "execution_count": 35,
   "metadata": {},
   "outputs": [
    {
     "name": "stdout",
     "output_type": "stream",
     "text": [
      "0 indexes to delete:  []\n"
     ]
    }
   ],
   "source": [
    "def filter_spectra(spectrums):\n",
    "    temp_filtered, indexes_to_remove = [], []\n",
    "    for k, spectrum in enumerate(spectrums):\n",
    "        temp_filtered.append([apply_my_filters(s) for s in spectrum])\n",
    "        # Always find is the new list has peaks intensities\n",
    "        indexes_to_remove += [k for s in temp_filtered[-1] if len(s.peaks.intensities) <= 0]\n",
    "    return temp_filtered, indexes_to_remove\n",
    "\n",
    "same_mol_filtered, idx_to_remove = filter_spectra(same_mol_unfiltered)\n",
    "\n",
    "same_mol_unfiltered = [s for k, s in enumerate(same_mol_unfiltered) if k not in idx_to_remove]\n",
    "same_mol_filtered = [s for k, s in enumerate(same_mol_filtered) if k not in idx_to_remove]\n",
    "\n",
    "print(f\"{len(idx_to_remove)} indexes to delete: \", idx_to_remove)"
   ]
  },
  {
   "cell_type": "markdown",
   "metadata": {},
   "source": [
    "## Pairs of spectra of different molecules\n",
    "## Applying filters to the spectra and removing spectra without peaks\n",
    "\n",
    "Applying the new filtering to the spectra.\n",
    "Some spectra are left without peaks after filtering, in order to do a fair test, those spectra without peaks are removed from both spectra samples (filtered and unfiltered)"
   ]
  },
  {
   "cell_type": "code",
   "execution_count": 36,
   "metadata": {},
   "outputs": [
    {
     "name": "stdout",
     "output_type": "stream",
     "text": [
      "0 indexes without peaks after filtering\n",
      "1000  pairs of spectra of different molecule are remaining\n"
     ]
    }
   ],
   "source": [
    "\n",
    "diff_mol_filtered, idx_to_remove = filter_spectra(diff_mol_unfiltered)\n",
    "\n",
    "print(f\"{len(idx_to_remove)} indexes without peaks after filtering\")\n",
    "\n",
    "\n",
    "diff_mol_unfiltered = [s for k, s in enumerate(diff_mol_unfiltered) if k not in idx_to_remove]\n",
    "diff_mol_filtered = [s for k, s in enumerate(diff_mol_filtered) if k not in idx_to_remove]\n",
    "\n",
    "print(len(diff_mol_unfiltered), \" pairs of spectra of different molecule are remaining\")\n"
   ]
  },
  {
   "cell_type": "markdown",
   "metadata": {},
   "source": [
    "## Computing similarity scores for both groups of spectra with and without filtering"
   ]
  },
  {
   "cell_type": "code",
   "execution_count": 37,
   "metadata": {},
   "outputs": [],
   "source": [
    "\n",
    "same_mol_similarities_unfiltered, same_mol_matches_unfiltered = calculate_similarity_scores(same_mol_unfiltered, 0.5)\n",
    "diff_mol_similarities_unfiltered, diff_mol_matches_unfiltered = calculate_similarity_scores(diff_mol_unfiltered, 0.5)\n",
    "\n",
    "same_mol_similarities_filtered, same_mol_matches_filtered = calculate_similarity_scores(same_mol_filtered, 0.5)\n",
    "diff_mol_similarities_filtered, diff_mol_matches_filtered = calculate_similarity_scores(diff_mol_filtered, 0.5)\n"
   ]
  },
  {
   "cell_type": "markdown",
   "metadata": {},
   "source": [
    "## Computing scores difference\n",
    "\n",
    "Computing the difference in the scores of spectra with and without filtering"
   ]
  },
  {
   "cell_type": "code",
   "execution_count": 38,
   "metadata": {
    "scrolled": false
   },
   "outputs": [
    {
     "name": "stdout",
     "output_type": "stream",
     "text": [
      "Remaining Spectra of the same molecule: 1000\n",
      "Remaining Spectra of different molecules: 1000\n"
     ]
    }
   ],
   "source": [
    "\n",
    "def compute_differences(unfiltered_spectra, filtered_spectra):\n",
    "    assert len(unfiltered_spectra) == len(filtered_spectra), \"The size of the lists need to be the same\"\n",
    "    \n",
    "    difference_scores = []\n",
    "    for i in range(len(unfiltered_spectra)):\n",
    "        difference = abs(unfiltered_spectra[i] - filtered_spectra[i])\n",
    "        # Sometimes spectra without peaks were used to compute similarity scores and the result was a NaN\n",
    "        if np.isnan(difference):\n",
    "            print(difference,i,  unfiltered_spectra[i], filtered_spectra[i])\n",
    "        difference_scores.append(difference)\n",
    "    return difference_scores\n",
    "\n",
    "same_mol_score_differences = compute_differences(same_mol_similarities_unfiltered, same_mol_similarities_filtered)\n",
    "diff_mol_score_differences = compute_differences(diff_mol_similarities_unfiltered, diff_mol_similarities_filtered)\n",
    "\n",
    "print(f'Remaining Spectra of the same molecule: {len(same_mol_score_differences)}')\n",
    "print(f'Remaining Spectra of different molecules: {len(diff_mol_score_differences)}')"
   ]
  },
  {
   "cell_type": "markdown",
   "metadata": {},
   "source": [
    " ## Displaying boxplot of score difference of filtered and unfiltered spectra"
   ]
  },
  {
   "cell_type": "code",
   "execution_count": 39,
   "metadata": {
    "scrolled": false
   },
   "outputs": [
    {
     "data": {
      "image/png": "[encoded data removed]",
      "text/plain": [
       "<Figure size 432x288 with 1 Axes>"
      ]
     },
     "metadata": {
      "needs_background": "light"
     },
     "output_type": "display_data"
    },
    {
     "data": {
      "image/png": "[encoded data removed]",
      "text/plain": [
       "<Figure size 432x288 with 1 Axes>"
      ]
     },
     "metadata": {
      "needs_background": "light"
     },
     "output_type": "display_data"
    }
   ],
   "source": [
    "import matplotlib.pyplot as plt\n",
    "\n",
    "def print_box_plot(data, title):\n",
    "    fig = plt.figure()\n",
    "    ax = fig.add_axes([0,0,1,1])\n",
    "    plt.title(title, fontsize=16)\n",
    "    bp = ax.boxplot(data)\n",
    "    plt.show()\n",
    "\n",
    "print_box_plot(same_mol_score_differences, \"Score difference of pairs \\n of Spectra from the same Molecule\\n\")\n",
    "print_box_plot(diff_mol_score_differences, \"Score difference of pairs \\n of Spectra from different Molecules \\n\")"
   ]
  }
 ],
 "metadata": {
  "kernelspec": {
   "display_name": "Python 3",
   "language": "python",
   "name": "python3"
  },
  "language_info": {
   "codemirror_mode": {
    "name": "ipython",
    "version": 3
   },
   "file_extension": ".py",
   "mimetype": "text/x-python",
   "name": "python",
   "nbconvert_exporter": "python",
   "pygments_lexer": "ipython3",
   "version": "3.7.8"
  }
 },
 "nbformat": 4,
 "nbformat_minor": 4
}
