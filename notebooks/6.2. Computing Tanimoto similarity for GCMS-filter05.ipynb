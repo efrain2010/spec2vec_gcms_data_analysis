{
 "cells": [
  {
   "cell_type": "markdown",
   "metadata": {},
   "source": [
    "## Computing Tanimoto score with new filtering\n",
    "\n",
    "Computing Tanimoto similarity score with the new filtering suggested for GC/MS\n",
    "In this notebook the select_by_relative_intensity will be tried with intensities from 0.05 to 1"
   ]
  },
  {
   "cell_type": "code",
   "execution_count": 1,
   "metadata": {},
   "outputs": [],
   "source": [
    "import os\n",
    "import sys\n",
    "\n",
    "ROOT = os.path.dirname(os.getcwd())\n",
    "sys.path.insert(0, ROOT)"
   ]
  },
  {
   "cell_type": "markdown",
   "metadata": {},
   "source": [
    "## Obtaining the data from the Mona File"
   ]
  },
  {
   "cell_type": "code",
   "execution_count": null,
   "metadata": {},
   "outputs": [],
   "source": [
    "from custom_functions.spectra_functions import get_data_folder_path\n",
    "\n",
    "# from_external=False to use the data folder within the project\n",
    "path = get_data_folder_path(from_external=False)\n",
    "msp_file = os.path.join(path, \"MoNA-export-GC-MS.msp\")"
   ]
  },
  {
   "cell_type": "markdown",
   "metadata": {},
   "source": [
    "## Getting the info from Mona file as Spectra"
   ]
  },
  {
   "cell_type": "code",
   "execution_count": 2,
   "metadata": {},
   "outputs": [
    {
     "name": "stdout",
     "output_type": "stream",
     "text": [
      "Number of spectra:  14847\n"
     ]
    }
   ],
   "source": [
    "from matchms.importing import load_from_msp\n",
    "\n",
    "spectrums = [s for s in load_from_msp(msp_file)]\n",
    "print(\"Number of spectra: \", len(spectrums))"
   ]
  },
  {
   "cell_type": "markdown",
   "metadata": {},
   "source": [
    "## Filtering the Spectra with select_by_relative_intensity from 0.05"
   ]
  },
  {
   "cell_type": "code",
   "execution_count": 3,
   "metadata": {},
   "outputs": [
    {
     "name": "stdout",
     "output_type": "stream",
     "text": [
      "Remaining spectra:  14847\n"
     ]
    }
   ],
   "source": [
    "from matchms.filtering import normalize_intensities\n",
    "from matchms.filtering import select_by_mz\n",
    "from matchms.filtering import select_by_relative_intensity\n",
    "\n",
    "def apply_my_filters(s):\n",
    "    s = normalize_intensities(s)\n",
    "    s = select_by_mz(s, mz_from=0, mz_to=1000)\n",
    "    s = select_by_relative_intensity(s, intensity_from=0.05, intensity_to=1.0)\n",
    "    return s\n",
    "\n",
    "spectrums = [apply_my_filters(s) for s in spectrums]\n",
    "\n",
    "spectrums = [s for s in spectrums if s is not None]\n",
    "\n",
    "print(\"Remaining spectra: \", len(spectrums))"
   ]
  },
  {
   "cell_type": "code",
   "execution_count": 4,
   "metadata": {},
   "outputs": [
    {
     "name": "stdout",
     "output_type": "stream",
     "text": [
      "Remaining number of spectra: 14844\n"
     ]
    }
   ],
   "source": [
    "spectrums = [s for s in spectrums if len(s.peaks.intensities) > 0]\n",
    "print(\"Remaining number of spectra:\", len(spectrums))"
   ]
  },
  {
   "cell_type": "markdown",
   "metadata": {},
   "source": [
    "## Obtaining Canonical smiles to compute Tanimoto similarity score\n",
    "\n",
    "GC/MS data has 2 smiles. A hypothesis is that the fingerprints of a canonical smiles will be better for the similarity score, rather than chosing from the first or second smiles"
   ]
  },
  {
   "cell_type": "code",
   "execution_count": 5,
   "metadata": {},
   "outputs": [],
   "source": [
    "from rdkit.Chem import rdMolHash\n",
    "from rdkit import Chem\n",
    "\n",
    "def set_canonical_smiles(spectrum):\n",
    "    spectrum.set('smiles', spectrum.get('smiles_2'))\n",
    "    return spectrum\n",
    "\n",
    "spectrums_canonical_smiles = [set_canonical_smiles(s) for s in spectrums]"
   ]
  },
  {
   "cell_type": "markdown",
   "metadata": {},
   "source": [
    "## Adding fingerprints to compute the Similarity score"
   ]
  },
  {
   "cell_type": "code",
   "execution_count": 6,
   "metadata": {},
   "outputs": [
    {
     "name": "stderr",
     "output_type": "stream",
     "text": [
      "RDKit WARNING: [09:35:54] WARNING: not removing hydrogen atom without neighbors\n",
      "RDKit WARNING: [09:35:54] WARNING: not removing hydrogen atom without neighbors\n",
      "RDKit WARNING: [09:35:54] WARNING: not removing hydrogen atom without neighbors\n",
      "RDKit WARNING: [09:35:54] WARNING: not removing hydrogen atom without neighbors\n"
     ]
    }
   ],
   "source": [
    "from matchms.filtering import add_fingerprint\n",
    "\n",
    "spectrums_clone = spectrums_canonical_smiles.copy()\n",
    "\n",
    "def change_smiles(spectrum):\n",
    "    spectrum.set('smiles', spectrum.get('smiles_2')) \n",
    "    return spectrum\n",
    "\n",
    "spectrums_clone = [change_smiles(s) for s in spectrums_clone]\n",
    "\n",
    "spectrums_fingerprint = [add_fingerprint(s, fingerprint_type=\"daylight\", nbits=2048) for s in spectrums_clone]"
   ]
  },
  {
   "cell_type": "markdown",
   "metadata": {},
   "source": [
    "## Spectra without fingerprints"
   ]
  },
  {
   "cell_type": "code",
   "execution_count": 7,
   "metadata": {},
   "outputs": [
    {
     "name": "stdout",
     "output_type": "stream",
     "text": [
      "1414 no figerprint\n",
      "9276 no figerprint\n",
      "13426 no figerprint\n"
     ]
    }
   ],
   "source": [
    "for i, spec1 in enumerate(spectrums_fingerprint):\n",
    "    if spec1.get(\"fingerprint\") is None:\n",
    "        print(i, \"no figerprint\")\n",
    "    elif spec1.get(\"fingerprint\").sum() < 1:\n",
    "        print(i, \"weird\")"
   ]
  },
  {
   "cell_type": "markdown",
   "metadata": {},
   "source": [
    "## Computing Jaccard (Tanimoto) similarity score"
   ]
  },
  {
   "cell_type": "code",
   "execution_count": 8,
   "metadata": {},
   "outputs": [],
   "source": [
    "from matchms.similarity import FingerprintSimilarityParallel\n",
    "\n",
    "similarity_measure = FingerprintSimilarityParallel(similarity_measure=\"jaccard\")\n",
    "\n",
    "scores_mol_similarity = similarity_measure(spectrums_fingerprint, spectrums_fingerprint)"
   ]
  },
  {
   "cell_type": "code",
   "execution_count": 9,
   "metadata": {},
   "outputs": [],
   "source": [
    "import numpy\n",
    "\n",
    "filename = os.path.join(path, \"gcms_similarities_filter05_daylight2048_jaccard.npy\")\n",
    "numpy.save(filename, scores_mol_similarity)"
   ]
  },
  {
   "cell_type": "code",
   "execution_count": 10,
   "metadata": {},
   "outputs": [
    {
     "name": "stderr",
     "output_type": "stream",
     "text": [
      "RDKit WARNING: [09:59:47] WARNING: not removing hydrogen atom without neighbors\n",
      "RDKit WARNING: [09:59:47] WARNING: not removing hydrogen atom without neighbors\n",
      "RDKit WARNING: [09:59:47] WARNING: not removing hydrogen atom without neighbors\n",
      "RDKit WARNING: [09:59:47] WARNING: not removing hydrogen atom without neighbors\n"
     ]
    },
    {
     "name": "stdout",
     "output_type": "stream",
     "text": [
      "1792 \n",
      "\n",
      "-------------------- [H]C([H])=C1C([H])([H])C([H])([H])C(C(=O)C(C([H])([H])[H])(C([H])([H])[H])C1([H])[H])(C([H])([H])[H])C([H])([H])[H].[H]C([H])([H])[H].[H]C([H])([H])[H].[H]C([H])([H])[H].[H][Sn]([H])([H])[H]\n",
      "-------------------- InChI=1S/C12H20O.3CH4.Sn.4H/c1-9-6-7-11(2,3)10(13)12(4,5)8-9;;;;;;;;/h1,6-8H2,2-5H3;3*1H4;;;;;\n",
      "---------- MXZAGCHAAXTYPS\n",
      "---------- KPGCSSPWYGKSDS\n"
     ]
    },
    {
     "name": "stderr",
     "output_type": "stream",
     "text": [
      "RDKit WARNING: [09:59:47] WARNING: not removing hydrogen atom without neighbors\n",
      "RDKit WARNING: [09:59:47] WARNING: not removing hydrogen atom without neighbors\n",
      "RDKit WARNING: [09:59:47] WARNING: not removing hydrogen atom without neighbors\n",
      "RDKit WARNING: [09:59:47] WARNING: not removing hydrogen atom without neighbors\n",
      "RDKit WARNING: [09:59:47] WARNING: not removing hydrogen atom without neighbors\n",
      "RDKit WARNING: [09:59:47] WARNING: not removing hydrogen atom without neighbors\n",
      "RDKit WARNING: [09:59:47] WARNING: not removing hydrogen atom without neighbors\n",
      "RDKit WARNING: [09:59:47] WARNING: not removing hydrogen atom without neighbors\n",
      "RDKit WARNING: [09:59:47] WARNING: not removing hydrogen atom without neighbors\n",
      "RDKit WARNING: [09:59:47] WARNING: not removing hydrogen atom without neighbors\n",
      "RDKit WARNING: [09:59:47] WARNING: not removing hydrogen atom without neighbors\n",
      "RDKit WARNING: [09:59:47] WARNING: not removing hydrogen atom without neighbors\n"
     ]
    },
    {
     "name": "stdout",
     "output_type": "stream",
     "text": [
      "1985 \n",
      "\n",
      "-------------------- [H][Sn]([H])([H])[H].[H]C([H])([H])C([H])([H])[H].[H]C([H])([H])C([H])([H])[H].[H]C([H])([H])C([H])([H])[H].[H]C([H])([H])C([H])([H])[H]\n",
      "-------------------- InChI=1S/4C2H6.Sn.4H/c4*1-2;;;;;/h4*1-2H3;;;;;\n",
      "---------- GDHITDSZLDSFOV\n",
      "---------- YWKYQLQFOKBAQU\n",
      "1988 \n",
      "\n",
      "-------------------- [H][Sn]([H])([H])[H].[H]C([H])([H])C([H])([H])C([H])([H])C([H])([H])[H].[H]C([H])([H])C([H])([H])C([H])([H])C([H])([H])[H].[H]C([H])([H])C([H])([H])C([H])([H])C([H])([H])[H].[H]C([H])([H])C([H])([H])C([H])([H])C([H])([H])[H]\n",
      "-------------------- InChI=1S/4C4H10.Sn.4H/c4*1-3-4-2;;;;;/h4*3-4H2,1-2H3;;;;;\n",
      "---------- STETXKIDVIWJIC\n",
      "---------- OJXINEUEVXOYNS\n",
      "1991 \n",
      "\n",
      "-------------------- [H]C=1C([H])=C([H])C([H])=C([H])C1[H].[H]C=1C([H])=C([H])C([H])=C([H])C1[H].[H]C=1C([H])=C([H])C([H])=C([H])C1[H].[H]C=1C([H])=C([H])C([H])=C([H])C1[H].[H][Sn]([H])([H])[H]\n",
      "-------------------- InChI=1S/4C6H6.Sn.4H/c4*1-2-4-6-5-3-1;;;;;/h4*1-6H;;;;;\n",
      "---------- LIMGUWBQKIGOTP\n",
      "---------- IBCZEPGDGKNMAW\n"
     ]
    },
    {
     "name": "stderr",
     "output_type": "stream",
     "text": [
      "RDKit WARNING: [09:59:48] WARNING: not removing hydrogen atom without neighbors\n",
      "RDKit WARNING: [09:59:48] WARNING: not removing hydrogen atom without neighbors\n",
      "RDKit WARNING: [09:59:48] WARNING: not removing hydrogen atom without neighbors\n",
      "RDKit WARNING: [09:59:48] WARNING: not removing hydrogen atom without neighbors\n"
     ]
    },
    {
     "name": "stdout",
     "output_type": "stream",
     "text": [
      "2321 \n",
      "\n",
      "-------------------- [H][Sn]([H])([H])[H].[H]C([H])([H])C([H])([H])C([H])([H])C([H])([H])[H].[H]C([H])([H])C([H])([H])C([H])([H])C([H])([H])[H].[H]C([H])([H])C([H])([H])C([H])([H])C([H])([H])[H].[H]C([H])([H])C([H])([H])C([H])([H])C([H])([H])[H]\n",
      "-------------------- InChI=1S/4C4H10.Sn.4H/c4*1-3-4-2;;;;;/h4*3-4H2,1-2H3;;;;;\n",
      "---------- STETXKIDVIWJIC\n",
      "---------- OJXINEUEVXOYNS\n"
     ]
    },
    {
     "name": "stderr",
     "output_type": "stream",
     "text": [
      "RDKit WARNING: [09:59:52] WARNING: not removing hydrogen atom without neighbors\n",
      "RDKit WARNING: [09:59:52] WARNING: not removing hydrogen atom without neighbors\n",
      "RDKit WARNING: [09:59:52] WARNING: not removing hydrogen atom without neighbors\n",
      "RDKit WARNING: [09:59:52] WARNING: not removing hydrogen atom without neighbors\n",
      "RDKit WARNING: [09:59:52] WARNING: not removing hydrogen atom without neighbors\n",
      "RDKit WARNING: [09:59:52] WARNING: not removing hydrogen atom without neighbors\n",
      "RDKit WARNING: [09:59:52] WARNING: not removing hydrogen atom without neighbors\n",
      "RDKit WARNING: [09:59:52] WARNING: not removing hydrogen atom without neighbors\n"
     ]
    },
    {
     "name": "stdout",
     "output_type": "stream",
     "text": [
      "4653 \n",
      "\n",
      "-------------------- [H]C(=C([H])C([H])([H])C([H])([H])C([H])([H])[H])C([H])([H])C([H])([H])[H].[H]C([H])([H])[H].[H]C([H])([H])[H].[H]C([H])([H])[H].[H][Sn]([H])([H])[H]\n",
      "-------------------- InChI=1S/C7H14.3CH4.Sn.4H/c1-3-5-7-6-4-2;;;;;;;;/h5,7H,3-4,6H2,1-2H3;3*1H4;;;;;/b7-5+;;;;;;;;\n",
      "---------- UAKOCVPFSUQANI\n",
      "---------- DAQUPUUNYZEHQC\n",
      "4671 \n",
      "\n",
      "-------------------- [H]C=1C([H])=C([H])C(SC([H])([H])C([H])([H])C([H])([H])[H])=C([H])C1[H].[H]C([H])([H])[H].[H]C([H])([H])[H].[H]C([H])([H])[H].[H][Sn]([H])([H])[H]\n",
      "-------------------- InChI=1S/C9H12S.3CH4.Sn.4H/c1-2-8-10-9-6-4-3-5-7-9;;;;;;;;/h3-7H,2,8H2,1H3;3*1H4;;;;;\n",
      "---------- VMQIEGDMFYMEHK\n",
      "---------- UXVBLNHZZOJONZ\n"
     ]
    },
    {
     "name": "stderr",
     "output_type": "stream",
     "text": [
      "RDKit WARNING: [09:59:59] WARNING: not removing hydrogen atom without neighbors\n",
      "RDKit WARNING: [09:59:59] WARNING: not removing hydrogen atom without neighbors\n"
     ]
    },
    {
     "name": "stdout",
     "output_type": "stream",
     "text": [
      "8986 \n",
      "\n",
      "-------------------- [H][Zn+2][H].[H]C([H])([H])N(C(=S)[S-])C([H])([H])[H].[H]C([H])([H])N(C(=S)[S-])C([H])([H])[H]\n",
      "-------------------- InChI=1S/2C3H7NS2.Zn.2H/c2*1-4(2)3(5)6;;;/h2*1-2H3,(H,5,6);;;/q;;+2;;/p-2\n",
      "---------- VHHLBXGMWZJIPX\n",
      "---------- DUBNHZYBDBBJHD\n"
     ]
    },
    {
     "name": "stderr",
     "output_type": "stream",
     "text": [
      "RDKit WARNING: [10:00:00] WARNING: not removing hydrogen atom without neighbors\n",
      "RDKit WARNING: [10:00:00] WARNING: not removing hydrogen atom without neighbors\n",
      "RDKit WARNING: [10:00:00] WARNING: not removing hydrogen atom without neighbors\n",
      "RDKit WARNING: [10:00:00] WARNING: not removing hydrogen atom without neighbors\n"
     ]
    },
    {
     "name": "stdout",
     "output_type": "stream",
     "text": [
      "9276 \n",
      "\n",
      "-------------------- [H]C([H])([H])[H].[H]C([H])([H])[H].[H]C([H])([H])[H].[H]C([H])([H])[H].[H][Sn]([H])([H])[H]\n",
      "-------------------- InChI=1S/4CH4.Sn.4H/h4*1H4;;;;;\n",
      "---------- JDMJRFMRAXUYFT\n",
      "---------- QZTAMPRLPRXMFU\n"
     ]
    },
    {
     "name": "stderr",
     "output_type": "stream",
     "text": [
      "RDKit WARNING: [10:00:02] WARNING: not removing hydrogen atom without neighbors\n",
      "RDKit WARNING: [10:00:02] WARNING: not removing hydrogen atom without neighbors\n",
      "RDKit WARNING: [10:00:02] WARNING: not removing hydrogen atom without neighbors\n",
      "RDKit WARNING: [10:00:02] WARNING: not removing hydrogen atom without neighbors\n",
      "RDKit WARNING: [10:00:02] WARNING: not removing hydrogen atom without neighbors\n",
      "RDKit WARNING: [10:00:02] WARNING: not removing hydrogen atom without neighbors\n",
      "RDKit WARNING: [10:00:02] WARNING: not removing hydrogen atom without neighbors\n",
      "RDKit WARNING: [10:00:02] WARNING: not removing hydrogen atom without neighbors\n",
      "RDKit WARNING: [10:00:02] WARNING: not removing hydrogen atom without neighbors\n",
      "RDKit WARNING: [10:00:02] WARNING: not removing hydrogen atom without neighbors\n",
      "RDKit WARNING: [10:00:02] WARNING: not removing hydrogen atom without neighbors\n",
      "RDKit WARNING: [10:00:02] WARNING: not removing hydrogen atom without neighbors\n",
      "RDKit WARNING: [10:00:02] WARNING: not removing hydrogen atom without neighbors\n",
      "RDKit WARNING: [10:00:02] WARNING: not removing hydrogen atom without neighbors\n",
      "RDKit WARNING: [10:00:02] WARNING: not removing hydrogen atom without neighbors\n",
      "RDKit WARNING: [10:00:02] WARNING: not removing hydrogen atom without neighbors\n",
      "RDKit WARNING: [10:00:02] WARNING: not removing hydrogen atom without neighbors\n",
      "RDKit WARNING: [10:00:02] WARNING: not removing hydrogen atom without neighbors\n",
      "RDKit WARNING: [10:00:02] WARNING: not removing hydrogen atom without neighbors\n",
      "RDKit WARNING: [10:00:02] WARNING: not removing hydrogen atom without neighbors\n",
      "RDKit WARNING: [10:00:02] WARNING: not removing hydrogen atom without neighbors\n",
      "RDKit WARNING: [10:00:02] WARNING: not removing hydrogen atom without neighbors\n",
      "RDKit WARNING: [10:00:02] WARNING: not removing hydrogen atom without neighbors\n",
      "RDKit WARNING: [10:00:02] WARNING: not removing hydrogen atom without neighbors\n"
     ]
    },
    {
     "name": "stdout",
     "output_type": "stream",
     "text": [
      "10732 \n",
      "\n",
      "-------------------- [H][C+]([H])C(=C([H])[C-]([H])[H])C([H])([H])[H].[H]C([H])([H])[H].[H]C([H])([H])[H].[H]C([H])([H])[H].[H]C([H])([H])[H].[H]C([H])([H])[H].[H]C([H])([H])[H].[H][Sn]([H])([H])[H].[H][Sn]([H])([H])[H]\n",
      "-------------------- InChI=1S/C5H8.6CH4.2Sn.8H/c1-4-5(2)3;;;;;;;;;;;;;;;;/h4H,1-2H2,3H3;6*1H4;;;;;;;;;;/b5-4-;;;;;;;;;;;;;;;;\n",
      "---------- ODKHJQGKBJZVLD\n",
      "---------- SGGXOFPOCGNAGX\n",
      "10734 \n",
      "\n",
      "-------------------- [H][C+]([H])C([H])=C([H])[C-]([H])[H].[H]C([H])([H])[H].[H]C([H])([H])[H].[H]C([H])([H])[H].[H]C([H])([H])[H].[H]C([H])([H])[H].[H]C([H])([H])[H].[H][Sn]([H])([H])[H].[H][Sn]([H])([H])[H]\n",
      "-------------------- InChI=1S/C4H6.6CH4.2Sn.8H/c1-3-4-2;;;;;;;;;;;;;;;;/h3-4H,1-2H2;6*1H4;;;;;;;;;;/b4-3+;;;;;;;;;;;;;;;;\n",
      "---------- RECVJKMOHRWGHD\n",
      "---------- IFKQLEVLWQTRTE\n",
      "10735 \n",
      "\n",
      "-------------------- [H][C+]([H])C([H])=C([H])[C-]([H])[H].[H][Sn]([H])([H])[H].[H][Sn]([H])([H])[H].[H]C([H])([H])C([H])([H])C([H])([H])C([H])([H])[H].[H]C([H])([H])C([H])([H])C([H])([H])C([H])([H])[H].[H]C([H])([H])C([H])([H])C([H])([H])C([H])([H])[H].[H]C([H])([H])C([H])([H])C([H])([H])C([H])([H])[H].[H]C([H])([H])C([H])([H])C([H])([H])C([H])([H])[H].[H]C([H])([H])C([H])([H])C([H])([H])C([H])([H])[H]\n",
      "-------------------- InChI=1S/6C4H10.C4H6.2Sn.8H/c7*1-3-4-2;;;;;;;;;;/h6*3-4H2,1-2H3;3-4H,1-2H2;;;;;;;;;;/b;;;;;;4-3+;;;;;;;;;;\n",
      "---------- IYSKBFTXKCEDBT\n",
      "---------- MPOWWUMJNXJHIP\n"
     ]
    },
    {
     "name": "stderr",
     "output_type": "stream",
     "text": [
      "RDKit WARNING: [10:00:03] WARNING: not removing hydrogen atom without neighbors\n",
      "RDKit WARNING: [10:00:03] WARNING: not removing hydrogen atom without neighbors\n",
      "RDKit WARNING: [10:00:03] WARNING: not removing hydrogen atom without neighbors\n",
      "RDKit WARNING: [10:00:03] WARNING: not removing hydrogen atom without neighbors\n"
     ]
    },
    {
     "name": "stdout",
     "output_type": "stream",
     "text": [
      "11161 \n",
      "\n",
      "-------------------- [H]C(OC1([H])C([H])([H])C([H])([H])C2([H])OC3([H])C([H])([H])C([H])([H])C([H])([H])OC3([H])C([H])([H])C([H])([H])C2([H])OC1([H])C([H])([H])C([H])=O)=C([H])C([H])([H])[H].[H][Sn]([H])([H])[H].[H]C([H])([H])C([H])([H])C([H])([H])C([H])([H])[H].[H]C([H])([H])C([H])([H])C([H])([H])C([H])([H])[H].[H]C([H])([H])C([H])([H])C([H])([H])C([H])([H])[H]\n",
      "-------------------- InChI=1S/C18H28O5.3C4H10.Sn.4H/c1-2-11-20-14-6-8-16-17(23-18(14)9-10-19)7-5-13-15(22-16)4-3-12-21-13;3*1-3-4-2;;;;;/h2,10-11,13-18H,3-9,12H2,1H3;3*3-4H2,1-2H3;;;;;/b11-2-;;;;;;;;/t13-,14+,15+,16-,17+,18-;;;;;;;;/m1......../s1\n",
      "---------- FYFNCFYJJSSGFU\n",
      "---------- UDFIFHMITQYMSZ\n"
     ]
    }
   ],
   "source": [
    "from matchms.utils import mol_converter\n",
    "\n",
    "for i, spec in enumerate(spectrums_fingerprint):\n",
    "    inchikey_smiles = None\n",
    "    inchikey_inchi = None\n",
    "    inchi = spec.get(\"inchi\")\n",
    "    if inchi:\n",
    "        inchikey_inchi = mol_converter(inchi, \"inchi\", \"inchikey\")\n",
    "    smiles = spec.get(\"smiles\")\n",
    "    if smiles:\n",
    "        inchikey_smiles = mol_converter(smiles, \"smiles\", \"inchikey\")\n",
    "    if inchikey_inchi and inchikey_smiles:\n",
    "        if not inchikey_inchi[:14] == inchikey_smiles[:14]:\n",
    "            print(i, \"\\n\")\n",
    "            print(10* \"--\", smiles)\n",
    "            print(10* \"--\", inchi)\n",
    "            print(5* \"--\", inchikey_inchi[:14])\n",
    "            print(5* \"--\", inchikey_smiles[:14])\n",
    "            "
   ]
  },
  {
   "cell_type": "code",
   "execution_count": 11,
   "metadata": {},
   "outputs": [],
   "source": [
    "spectrums_2 = [add_fingerprint(s, fingerprint_type=\"morgan3\", nbits=2048) for s in spectrums_fingerprint]\n"
   ]
  },
  {
   "cell_type": "code",
   "execution_count": 12,
   "metadata": {},
   "outputs": [],
   "source": [
    "similarity_measure = FingerprintSimilarityParallel(similarity_measure=\"jaccard\")\n",
    "scores_mol_similarity = similarity_measure(spectrums_2, spectrums_2)"
   ]
  },
  {
   "cell_type": "markdown",
   "metadata": {},
   "source": [
    "## Saving Tanimoto Similarity Scores"
   ]
  },
  {
   "cell_type": "code",
   "execution_count": 13,
   "metadata": {},
   "outputs": [],
   "source": [
    "filename = os.path.join(path, \"gcms_similarities_filter05_morgan3_2048_dice.npy\")\n",
    "numpy.save(filename, scores_mol_similarity)"
   ]
  }
 ],
 "metadata": {
  "kernelspec": {
   "display_name": "Python 3",
   "language": "python",
   "name": "python3"
  },
  "language_info": {
   "codemirror_mode": {
    "name": "ipython",
    "version": 3
   },
   "file_extension": ".py",
   "mimetype": "text/x-python",
   "name": "python",
   "nbconvert_exporter": "python",
   "pygments_lexer": "ipython3",
   "version": "3.7.8"
  }
 },
 "nbformat": 4,
 "nbformat_minor": 4
}
