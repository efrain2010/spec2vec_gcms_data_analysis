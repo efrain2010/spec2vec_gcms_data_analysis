{
 "cells": [
  {
   "cell_type": "markdown",
   "metadata": {},
   "source": [
    "# Compare the different scores, cosines, spec2vec and Tanimoto"
   ]
  },
  {
   "cell_type": "code",
   "execution_count": 2,
   "metadata": {},
   "outputs": [],
   "source": [
    "import os\n",
    "import sys\n",
    "\n",
    "ROOT = os.path.dirname(os.getcwd())\n",
    "path = os.path.join(os.path.dirname(os.getcwd()), \"data\")\n",
    "sys.path.insert(0, ROOT)"
   ]
  },
  {
   "cell_type": "markdown",
   "metadata": {},
   "source": [
    "## Importing Cosine Similarities with NIST powers"
   ]
  },
  {
   "cell_type": "code",
   "execution_count": 267,
   "metadata": {},
   "outputs": [
    {
     "name": "stdout",
     "output_type": "stream",
     "text": [
      "Matrix dimension (14359, 14359)\n"
     ]
    }
   ],
   "source": [
    "import numpy as np\n",
    "\n",
    "filename = os.path.join(path,'similarities_cosine_tol05_mzp3_intp06.npy')\n",
    "matrix_similarities_nist = np.load(filename)\n",
    "\n",
    "filename = os.path.join(path,'similarities_cosine_tol05_mzp3_intp06_matches.npy')\n",
    "matrix_matches_nist = np.load(filename)\n",
    "\n",
    "print(\"Matrix dimension\", matrix_similarities_nist.shape)"
   ]
  },
  {
   "cell_type": "code",
   "execution_count": 265,
   "metadata": {},
   "outputs": [
    {
     "data": {
      "image/png": "[encoded data removed]",
      "text/plain": [
       "<Figure size 864x576 with 1 Axes>"
      ]
     },
     "metadata": {
      "needs_background": "light"
     },
     "output_type": "display_data"
    }
   ],
   "source": [
    "from matplotlib import pyplot as plt\n",
    "\n",
    "def plot_similarity_matrix_percentile(spectra):\n",
    "    \n",
    "    cloned_spectra = spectra.copy()\n",
    "    \n",
    "    np.fill_diagonal(cloned_spectra, np.nan)\n",
    "    nan_indexes = np.where(np.isnan(matrix_copy) == False)\n",
    "    cloned_spectra = np.sort(spectra[nan_indexes])\n",
    "\n",
    "    #y_axis = np.split(spectra, chunk)\n",
    "    y_axis = [cloned_spectra[int((i+1)/10*len(cloned_spectra))-(int(0.1*len(cloned_spectra))) : int((i+1)/10*len(cloned_spectra))] for i in range(10)]\n",
    "    y_axis = [np.mean(s) for s in y_axis][::-1]\n",
    "\n",
    "    x_axis = np.linspace(0,1,11)[:-1]\n",
    "\n",
    "    fig, ax = plt.subplots(figsize=(12, 8))\n",
    "    plt.plot(\n",
    "        x_axis,\n",
    "        y_axis,\n",
    "        color='black')\n",
    "    plt.xticks(np.linspace(0, 1, 11),\n",
    "           [\"{:.2f}%\".format(x) for x in np.linspace(0, 1, 11)])\n",
    "    plt.xlabel(\"Top percentile of spectral similarity score g(s,s')\")\n",
    "    plt.ylabel(\"Mean molecular similarity (f(t,t') within that percentile)\")\n",
    "    \n",
    "plot_similarity_matrix_percentile(matrix_similarities_nist)"
   ]
  },
  {
   "cell_type": "code",
   "execution_count": 103,
   "metadata": {},
   "outputs": [
    {
     "name": "stdout",
     "output_type": "stream",
     "text": [
      "1436\n"
     ]
    }
   ],
   "source": [
    "print(len(segmented))"
   ]
  },
  {
   "cell_type": "code",
   "execution_count": 21,
   "metadata": {},
   "outputs": [
    {
     "name": "stdout",
     "output_type": "stream",
     "text": [
      "[[ 75.  31.  21. ...  32.  30.  33.]\n",
      " [ 31.  64.  21. ...  22.  10.  11.]\n",
      " [ 21.  21.  36. ...  18.   8.   9.]\n",
      " ...\n",
      " [ 32.  22.  18. ...  71.  35.  44.]\n",
      " [ 30.  10.   8. ...  35. 100.  46.]\n",
      " [ 33.  11.   9. ...  44.  46. 100.]]\n"
     ]
    }
   ],
   "source": [
    "print(matrix_matches_nist)"
   ]
  },
  {
   "cell_type": "code",
   "execution_count": 18,
   "metadata": {},
   "outputs": [],
   "source": [
    "matrix_similarity_cosine_minmatch6 = matrix_similarities_nist.copy()\n"
   ]
  },
  {
   "cell_type": "code",
   "execution_count": 19,
   "metadata": {},
   "outputs": [],
   "source": [
    " #   print(k+1, s)"
   ]
  },
  {
   "cell_type": "markdown",
   "metadata": {},
   "source": [
    "## Importing Cosine Similarities with MassBank powers"
   ]
  },
  {
   "cell_type": "code",
   "execution_count": 11,
   "metadata": {},
   "outputs": [],
   "source": [
    "filename = os.path.join(path,'similarities_cosine_tol05_mzp2_intp05.npy')\n",
    "matrix_similarities_massbank = np.load(filename)\n",
    "\n",
    "filename = os.path.join(path,'similarities_cosine_tol05_mzp2_intp05_matches.npy')\n",
    "matrix_matches_massbank = np.load(filename)"
   ]
  },
  {
   "cell_type": "markdown",
   "metadata": {},
   "source": [
    "## Importing Cosine Similarities with Demuth powers"
   ]
  },
  {
   "cell_type": "code",
   "execution_count": 12,
   "metadata": {},
   "outputs": [],
   "source": [
    "filename = os.path.join(path,'similarities_cosine_tol05_mzp0_intp033.npy')\n",
    "matrix_similarities_demuth = np.load(filename)\n",
    "\n",
    "filename = os.path.join(path,'similarities_cosine_tol05_mzp0_intp033_matches.npy')\n",
    "matrix_matches_demuth = np.load(filename)"
   ]
  },
  {
   "cell_type": "markdown",
   "metadata": {},
   "source": [
    "## Importing Tanimoto Similarities"
   ]
  },
  {
   "cell_type": "code",
   "execution_count": 13,
   "metadata": {},
   "outputs": [],
   "source": [
    "filename = os.path.join(path, \"gcms_similarities_morgan3_2048_dice.npy\")\n",
    "matrix_similarities_tanimoto = np.load(filename)"
   ]
  },
  {
   "cell_type": "markdown",
   "metadata": {},
   "source": [
    "## Importing Spec2vec Similarities"
   ]
  },
  {
   "cell_type": "code",
   "execution_count": 14,
   "metadata": {},
   "outputs": [],
   "source": [
    "filename = os.path.join(path, \"similarities_spec2vec_mona_gc_ms_20iter.npy\")\n",
    "matrix_similarities_sspec2vec = np.load(filename)"
   ]
  },
  {
   "cell_type": "code",
   "execution_count": null,
   "metadata": {},
   "outputs": [],
   "source": [
    "from custom_functions.plotting_functions import plot_precentile\n",
    "\n",
    "percentile_cosine_tol0005 = plot_precentile(matrix_similarities_fingerprint_daylight,\n",
    "                                            matrix_similarities_cosine_minmatch6,\n",
    "                                            num_bins=100, show_top_percentile=0.1,\n",
    "                                            ignore_diagonal=True)"
   ]
  }
 ],
 "metadata": {
  "kernelspec": {
   "display_name": "Python 3",
   "language": "python",
   "name": "python3"
  },
  "language_info": {
   "codemirror_mode": {
    "name": "ipython",
    "version": 3
   },
   "file_extension": ".py",
   "mimetype": "text/x-python",
   "name": "python",
   "nbconvert_exporter": "python",
   "pygments_lexer": "ipython3",
   "version": "3.7.8"
  }
 },
 "nbformat": 4,
 "nbformat_minor": 4
}
