{
 "cells": [
  {
   "cell_type": "markdown",
   "metadata": {},
   "source": [
    "# Converting both SMILES in GCMS to canonical\n",
    "\n",
    "In msp files inside comments index there are 2 SMILES indexes, this notebook converts both to canonical SMILES to test if both are the same"
   ]
  },
  {
   "cell_type": "code",
   "execution_count": 214,
   "metadata": {},
   "outputs": [],
   "source": [
    "import os\n",
    "\n",
    "module_root = os.path.join(os.path.dirname(os.getcwd()), \"data\")\n",
    "spectrums_file = os.path.join(module_root, \"MoNA-export-GC-MS-first10.msp\")"
   ]
  },
  {
   "cell_type": "markdown",
   "metadata": {},
   "source": [
    "### Loading the data from the msp file"
   ]
  },
  {
   "cell_type": "code",
   "execution_count": 215,
   "metadata": {},
   "outputs": [],
   "source": [
    "from matchms.importing import load_from_msp\n",
    "\n",
    "spectrums = load_from_msp(spectrums_file)"
   ]
  },
  {
   "cell_type": "markdown",
   "metadata": {},
   "source": [
    "### Reading the data of one spectrum"
   ]
  },
  {
   "cell_type": "code",
   "execution_count": 216,
   "metadata": {},
   "outputs": [
    {
     "name": "stdout",
     "output_type": "stream",
     "text": [
      "name: 2,5-DICHLOROPHENOL\n",
      "InChIKey RANCECPPZPIPNO-UHFFFAOYSA-N\n",
      "Oc(c1)c(Cl)ccc(Cl)1\n",
      "[H]OC1=C([H])C(Cl)=C([H])C([H])=C1Cl\n"
     ]
    }
   ],
   "source": [
    "from rdkit import Chem\n",
    "\n",
    "data = []\n",
    "\n",
    "for s in spectrums:\n",
    "    temp = {\n",
    "        \"name\": s.metadata.get(\"name\"),\n",
    "        \"InChIKey\": s.metadata.get(\"inchikey\"),\n",
    "        \"smile_1\": s.metadata.get(\"smiles\"),\n",
    "        \"smile_2\": s.metadata.get(\"smiles_2\")\n",
    "    }\n",
    "    data.append(temp)\n",
    "\n",
    "index = 3\n",
    "\n",
    "print(\"name:\", data[index]['name'])\n",
    "print(\"InChIKey\", data[index]['InChIKey'])\n",
    "\n",
    "print(data[index]['smile_1'])\n",
    "print(data[index]['smile_2'])"
   ]
  },
  {
   "cell_type": "markdown",
   "metadata": {},
   "source": [
    "### Drawing the first SMILES of the spectrum"
   ]
  },
  {
   "cell_type": "code",
   "execution_count": 217,
   "metadata": {},
   "outputs": [
    {
     "data": {
      "image/png": "[encoded data removed]",
      "text/plain": [
       "<rdkit.Chem.rdchem.Mol at 0x12a2a9c60>"
      ]
     },
     "execution_count": 217,
     "metadata": {},
     "output_type": "execute_result"
    }
   ],
   "source": [
    "s1 = Chem.MolFromSmiles(data[index]['smile_1'])\n",
    "s1"
   ]
  },
  {
   "cell_type": "markdown",
   "metadata": {},
   "source": [
    "### Drawing the second SMILES of the spectrum"
   ]
  },
  {
   "cell_type": "code",
   "execution_count": 218,
   "metadata": {},
   "outputs": [
    {
     "data": {
      "image/png": "[encoded data removed]",
      "text/plain": [
       "<rdkit.Chem.rdchem.Mol at 0x129e25e40>"
      ]
     },
     "execution_count": 218,
     "metadata": {},
     "output_type": "execute_result"
    }
   ],
   "source": [
    "s2 = Chem.MolFromSmiles(data[index]['smile_2'])\n",
    "s2"
   ]
  },
  {
   "cell_type": "markdown",
   "metadata": {},
   "source": [
    "### Printing the SMILES once converted to canonical"
   ]
  },
  {
   "cell_type": "code",
   "execution_count": 219,
   "metadata": {},
   "outputs": [
    {
     "name": "stdout",
     "output_type": "stream",
     "text": [
      "Canonical smile of: 2,5-DICHLOROPHENOL\n"
     ]
    },
    {
     "data": {
      "text/plain": [
       "'Oc1cc(Cl)ccc1Cl'"
      ]
     },
     "execution_count": 219,
     "metadata": {},
     "output_type": "execute_result"
    }
   ],
   "source": [
    "from rdkit.Chem import rdMolHash\n",
    "\n",
    "molhashf = rdMolHash.HashFunction.names\n",
    "\n",
    "print(\"Canonical smiles of:\", data[index]['name'] )\n",
    "rdMolHash.MolHash(s1, molhashf.get(\"CanonicalSmiles\"))"
   ]
  },
  {
   "cell_type": "code",
   "execution_count": 220,
   "metadata": {},
   "outputs": [
    {
     "data": {
      "text/plain": [
       "'Oc1cc(Cl)ccc1Cl'"
      ]
     },
     "execution_count": 220,
     "metadata": {},
     "output_type": "execute_result"
    }
   ],
   "source": [
    "rdMolHash.MolHash(s2, molhashf.get(\"CanonicalSmiles\"))"
   ]
  }
 ],
 "metadata": {
  "kernelspec": {
   "display_name": "Python 3",
   "language": "python",
   "name": "python3"
  },
  "language_info": {
   "codemirror_mode": {
    "name": "ipython",
    "version": 3
   },
   "file_extension": ".py",
   "mimetype": "text/x-python",
   "name": "python",
   "nbconvert_exporter": "python",
   "pygments_lexer": "ipython3",
   "version": "3.7.6"
  }
 },
 "nbformat": 4,
 "nbformat_minor": 4
}
