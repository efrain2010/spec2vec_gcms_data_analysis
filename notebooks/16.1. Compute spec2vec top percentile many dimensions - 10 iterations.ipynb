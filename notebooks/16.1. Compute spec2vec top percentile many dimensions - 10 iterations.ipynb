{
 "cells": [
  {
   "cell_type": "markdown",
   "metadata": {},
   "source": [
    "# Computing spec2vec similarity 10 times for different dimensioonalities\n",
    "\n",
    "The following space dimensionalities were used: 2, 50, 100, 300, 500, 600, 650, 700, 750, 800, 100 and 1200.\n",
    "\n",
    "The diagonal is ignored every time the percentile value is obtained.\n"
   ]
  },
  {
   "cell_type": "code",
   "execution_count": 2,
   "metadata": {},
   "outputs": [],
   "source": [
    "import os\n",
    "import sys\n",
    "\n",
    "ROOT = os.path.dirname(os.getcwd())\n",
    "sys.path.insert(0, ROOT)"
   ]
  },
  {
   "cell_type": "code",
   "execution_count": 3,
   "metadata": {},
   "outputs": [],
   "source": [
    "from custom_functions.spectra_functions import get_data_folder_path\n",
    "\n",
    "path = get_data_folder_path()"
   ]
  },
  {
   "cell_type": "markdown",
   "metadata": {},
   "source": [
    "## Retrieving Tanimoto similarity scores"
   ]
  },
  {
   "cell_type": "code",
   "execution_count": 4,
   "metadata": {},
   "outputs": [],
   "source": [
    "import numpy as np \n",
    "\n",
    "filename = os.path.join(path, \"gcms_similarities_filter05_morgan3_2048_dice.npy\")\n",
    "matrix_similarities_tanimoto = np.load(filename)"
   ]
  },
  {
   "cell_type": "markdown",
   "metadata": {},
   "source": [
    "## Method to obtain the average similarity score of certain percentile"
   ]
  },
  {
   "cell_type": "markdown",
   "metadata": {},
   "source": [
    "## Obtaining the average scores for the 30th percentile"
   ]
  },
  {
   "cell_type": "code",
   "execution_count": 4,
   "metadata": {},
   "outputs": [
    {
     "name": "stdout",
     "output_type": "stream",
     "text": [
      " About 100.000% completed"
     ]
    }
   ],
   "source": [
    "from custom_functions.plotting_functions import plot_precentile\n",
    "\n",
    "x_dimensions = [2, 50, 100, 300, 500, 600, 650, 700, 750, 800, 1000, 1200]\n",
    "percentile = 0.007\n",
    "ten_iterations = []\n",
    "count = 0\n",
    "\n",
    "for idx in range(10):\n",
    "    percentile_cosine_spec2vec2_list = []\n",
    "    for k, dimension in enumerate(x_dimensions):\n",
    "        matrix_filename = \"similarities_filter05_spec2vec_it{:d}_size{:d}.npy\".format(idx+1, dimension)\n",
    "        filename = os.path.join(path, matrix_filename)\n",
    "        similarity_matrix_spec2vec = np.load(filename)\n",
    "        percentile_cosine_spec2vec2_list.append(plot_precentile(matrix_similarities_tanimoto, similarity_matrix_spec2vec, show_top_percentile=percentile, title=\"Spec2vec Top Percentil Comparison\", ignore_diagonal=True))\n",
    "        count += 1\n",
    "        progress = (count / (10 * len(x_dimensions))) * 100\n",
    "        print('\\r', 'About {:.3f}% completed'.format(progress), end=\"\")\n",
    "    ten_iterations.append(percentile_cosine_spec2vec2_list)\n",
    "\n",
    "filename = os.path.join(path,'spec2vec_top_percentile07_10iterarions.npy')\n",
    "np.save(filename, ten_iterations)\n"
   ]
  },
  {
   "cell_type": "code",
   "execution_count": 5,
   "metadata": {},
   "outputs": [
    {
     "name": "stdout",
     "output_type": "stream",
     "text": [
      " About 100.000% completed"
     ]
    }
   ],
   "source": [
    "\n",
    "percentile = 0.01\n",
    "ten_iterations = []\n",
    "count = 0\n",
    "\n",
    "for idx in range(10):\n",
    "    percentile_cosine_spec2vec2_list = []\n",
    "    for k, dimension in enumerate(x_dimensions):\n",
    "        matrix_filename = \"similarities_filter05_spec2vec_it{:d}_size{:d}.npy\".format(idx+1, dimension)\n",
    "        filename = os.path.join(path, matrix_filename)\n",
    "        similarity_matrix_spec2vec = np.load(filename)\n",
    "        percentile_cosine_spec2vec2_list.append(plot_precentile(matrix_similarities_tanimoto, similarity_matrix_spec2vec, show_top_percentile=percentile, title=\"Spec2vec Top Percentil Comparison\", ignore_diagonal=True))\n",
    "        count += 1\n",
    "        progress = (count / (10 * len(x_dimensions))) * 100\n",
    "        print('\\r', 'About {:.3f}% completed'.format(progress), end=\"\")\n",
    "    ten_iterations.append(percentile_cosine_spec2vec2_list)\n",
    "\n",
    "filename = os.path.join(path,'spec2vec_top_percentile1_10iterarions.npy')\n",
    "np.save(filename, ten_iterations)\n"
   ]
  },
  {
   "cell_type": "code",
   "execution_count": 6,
   "metadata": {},
   "outputs": [
    {
     "data": {
      "text/plain": [
       "1000"
      ]
     },
     "execution_count": 6,
     "metadata": {},
     "output_type": "execute_result"
    }
   ],
   "source": [
    "filename = os.path.join(path, \"spec2vec_top_percentile1_10iterarions.npy\")\n",
    "spec2vec_top_percentile1 = np.load(filename)\n",
    "len(spec2vec_top_percentile1[0][0])"
   ]
  }
 ],
 "metadata": {
  "kernelspec": {
   "display_name": "Python 3",
   "language": "python",
   "name": "python3"
  },
  "language_info": {
   "codemirror_mode": {
    "name": "ipython",
    "version": 3
   },
   "file_extension": ".py",
   "mimetype": "text/x-python",
   "name": "python",
   "nbconvert_exporter": "python",
   "pygments_lexer": "ipython3",
   "version": "3.7.8"
  }
 },
 "nbformat": 4,
 "nbformat_minor": 4
}
