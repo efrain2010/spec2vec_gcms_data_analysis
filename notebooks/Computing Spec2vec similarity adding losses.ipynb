{
 "cells": [
  {
   "cell_type": "markdown",
   "metadata": {},
   "source": [
    "## An experiment to add losses too the spectra was suggested, however, this was not used for the development of the thesis\n",
    "\n",
    "## Obtaining the data from the Mona File\n",
    "\n",
    "## Getting the path for Mona file\n",
    "\n",
    "Using the method load_from_msp, the information inside the Mona file is being obtained."
   ]
  },
  {
   "cell_type": "code",
   "execution_count": 1,
   "metadata": {},
   "outputs": [],
   "source": [
    "import os\n",
    "import sys\n",
    "\n",
    "ROOT = os.path.dirname(os.getcwd())\n",
    "sys.path.insert(0, ROOT)"
   ]
  },
  {
   "cell_type": "code",
   "execution_count": 2,
   "metadata": {},
   "outputs": [],
   "source": [
    "from custom_functions.spectra_functions import get_data_folder_path\n",
    "\n",
    "path = get_data_folder_path(False)\n",
    "spectrums_file = os.path.join(path, \"MoNA-export-GC-MS.msp\")"
   ]
  },
  {
   "cell_type": "markdown",
   "metadata": {},
   "source": [
    "## Appliying filters to the spectra\n",
    "\n",
    "Applied filters are:\n",
    "* normalize_intensities(s)\n",
    "* select_by_mz(s, mz_from=0, mz_to=1000)\n",
    "* select_by_relative_intensity(s, intensity_from=0.05, intensity_to=1.0)"
   ]
  },
  {
   "cell_type": "code",
   "execution_count": 3,
   "metadata": {},
   "outputs": [
    {
     "name": "stdout",
     "output_type": "stream",
     "text": [
      "Number of Spectra: 14847\n"
     ]
    }
   ],
   "source": [
    "from matchms.importing import load_from_msp\n",
    "\n",
    "spectrums = [s for s in load_from_msp(spectrums_file)]\n",
    "print(\"Number of Spectra:\", len(spectrums))"
   ]
  },
  {
   "cell_type": "markdown",
   "metadata": {},
   "source": [
    "## Obtaining the number of shifts in the Mona file\n",
    "\n",
    "The number of shift is obtained by substracting the number one peak of a Spectra to all the others"
   ]
  },
  {
   "cell_type": "code",
   "execution_count": 4,
   "metadata": {
    "scrolled": true
   },
   "outputs": [
    {
     "data": {
      "text/plain": [
       "(79153394,)"
      ]
     },
     "execution_count": 4,
     "metadata": {},
     "output_type": "execute_result"
    }
   ],
   "source": [
    "import numpy as np\n",
    "\n",
    "spectrums_sample = spectrums.copy()\n",
    "\n",
    "diffs = []\n",
    "for spectrum in spectrums_sample:    \n",
    "    mz = spectrum.peaks[0] # first position is mz\n",
    "    for i, mz1 in enumerate(mz[:-1]): # loop over peaks from 0 to N-1\n",
    "        for mz2 in mz[i+1:]:\n",
    "            diffs.append(abs(int(mz1 - mz2)))\n",
    "            \n",
    "diffs = np.array(diffs)\n",
    "diffs.shape"
   ]
  },
  {
   "cell_type": "code",
   "execution_count": 5,
   "metadata": {},
   "outputs": [
    {
     "data": {
      "text/plain": [
       "(2452, 2)"
      ]
     },
     "execution_count": 5,
     "metadata": {},
     "output_type": "execute_result"
    }
   ],
   "source": [
    "from custom_functions.spectra_functions import grouped_by_same_mol\n",
    "from custom_functions.spectra_functions import grouped_by_diff_mol\n",
    "\n",
    "spectrums_diff_mol = np.array(grouped_by_diff_mol(spectrums))\n",
    "spectrums_diff_mol.shape"
   ]
  },
  {
   "cell_type": "code",
   "execution_count": 6,
   "metadata": {},
   "outputs": [
    {
     "data": {
      "text/plain": [
       "(2452,)"
      ]
     },
     "execution_count": 6,
     "metadata": {},
     "output_type": "execute_result"
    }
   ],
   "source": [
    "diffs2 = []\n",
    "for pairs in spectrums_diff_mol:\n",
    "    peaks_1 = pairs[0].peaks[0]\n",
    "    peaks_2 = pairs[1].peaks[0]\n",
    "    random_peak_1 = np.random.choice(peaks_1, 1)[0]\n",
    "    random_peak_2 = np.random.choice(peaks_2, 1)[0]\n",
    "    diffs2.append(abs(int(random_peak_1 - random_peak_2)))\n",
    "    \n",
    "diffs2 = np.array(diffs2)\n",
    "diffs2.shape"
   ]
  },
  {
   "cell_type": "code",
   "execution_count": 18,
   "metadata": {},
   "outputs": [
    {
     "data": {
      "text/plain": [
       "1     767639\n",
       "2     692914\n",
       "14    686234\n",
       "13    647764\n",
       "15    643789\n",
       "12    629680\n",
       "16    622332\n",
       "28    615219\n",
       "3     596171\n",
       "27    586690\n",
       "29    581961\n",
       "26    575145\n",
       "11    567707\n",
       "30    565815\n",
       "17    562390\n",
       "4     549944\n",
       "10    536341\n",
       "18    531414\n",
       "42    529183\n",
       "25    527747\n",
       "31    519635\n",
       "43    514143\n",
       "44    510034\n",
       "24    509718\n",
       "41    508090\n",
       "40    502601\n",
       "5     500683\n",
       "32    496019\n",
       "9     494096\n",
       "6     485825\n",
       "dtype: int64"
      ]
     },
     "execution_count": 18,
     "metadata": {},
     "output_type": "execute_result"
    }
   ],
   "source": [
    "import pandas as pd\n",
    "\n",
    "shifts_count_pd = pd.Series(diffs)\n",
    "shifts_count_pd.value_counts()[:30]"
   ]
  },
  {
   "cell_type": "code",
   "execution_count": 19,
   "metadata": {
    "scrolled": false
   },
   "outputs": [
    {
     "data": {
      "text/plain": [
       "6     30\n",
       "22    28\n",
       "24    28\n",
       "38    27\n",
       "28    27\n",
       "29    26\n",
       "1     25\n",
       "10    25\n",
       "78    25\n",
       "43    24\n",
       "14    24\n",
       "23    24\n",
       "16    23\n",
       "31    23\n",
       "34    23\n",
       "2     23\n",
       "52    23\n",
       "46    23\n",
       "30    22\n",
       "17    22\n",
       "26    21\n",
       "3     21\n",
       "42    21\n",
       "44    21\n",
       "19    20\n",
       "7     20\n",
       "9     20\n",
       "61    20\n",
       "36    20\n",
       "13    19\n",
       "dtype: int64"
      ]
     },
     "execution_count": 19,
     "metadata": {},
     "output_type": "execute_result"
    }
   ],
   "source": [
    "shifts2_count_pd = pd.Series(diffs2)\n",
    "shifts2_count_pd.value_counts()[:30]"
   ]
  }
 ],
 "metadata": {
  "kernelspec": {
   "display_name": "Python 3",
   "language": "python",
   "name": "python3"
  },
  "language_info": {
   "codemirror_mode": {
    "name": "ipython",
    "version": 3
   },
   "file_extension": ".py",
   "mimetype": "text/x-python",
   "name": "python",
   "nbconvert_exporter": "python",
   "pygments_lexer": "ipython3",
   "version": "3.7.8"
  }
 },
 "nbformat": 4,
 "nbformat_minor": 4
}
