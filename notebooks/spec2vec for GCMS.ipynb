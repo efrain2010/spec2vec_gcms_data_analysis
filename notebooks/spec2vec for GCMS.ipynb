{
 "cells": [
  {
   "cell_type": "markdown",
   "metadata": {},
   "source": [
    "# spec2vec for GCMS\n",
    "## Training a spec2vec model with GC/MS data\n",
    "\n",
    "Example of how to train a spec2vec model using GC/MS and its results"
   ]
  },
  {
   "cell_type": "code",
   "execution_count": 21,
   "metadata": {},
   "outputs": [],
   "source": [
    "import os\n",
    "\n",
    "path = os.path.join(os.path.dirname(os.getcwd()), \"data\")\n",
    "msp_file = os.path.join(path, \"MoNA-export-GC-MS.msp\")"
   ]
  },
  {
   "cell_type": "markdown",
   "metadata": {},
   "source": [
    "### Reading the msp file and converting it into Spectrum objects\n",
    "\n",
    "+ normalize intensities\n",
    "+ reduce number of peaks, required: 10, radio desired: 0.5\n",
    "+ select by mz, from 0 to 1000\n",
    "+ filter by peaks, n required: 5"
   ]
  },
  {
   "cell_type": "code",
   "execution_count": 22,
   "metadata": {
    "scrolled": true
   },
   "outputs": [],
   "source": [
    "from matchms.filtering import normalize_intensities\n",
    "from matchms.filtering import reduce_to_number_of_peaks\n",
    "from matchms.filtering import require_minimum_number_of_peaks\n",
    "from matchms.filtering import select_by_mz\n",
    "\n",
    "def apply_my_filters(s):\n",
    "    s = normalize_intensities(s)\n",
    "    s = reduce_to_number_of_peaks(s, n_required=10, ratio_desired=0.5)\n",
    "    s = select_by_mz(s, mz_from=0, mz_to=1000)\n",
    "    s = require_minimum_number_of_peaks(s, n_required=5)\n",
    "    return s"
   ]
  },
  {
   "cell_type": "markdown",
   "metadata": {},
   "source": [
    "### Apply the filters to the GCMS file"
   ]
  },
  {
   "cell_type": "code",
   "execution_count": 23,
   "metadata": {},
   "outputs": [
    {
     "name": "stdout",
     "output_type": "stream",
     "text": [
      "number of spectrums: 14361\n"
     ]
    }
   ],
   "source": [
    "from matchms.importing import load_from_msp\n",
    "\n",
    "spectrums = [apply_my_filters(s) for s in load_from_msp(msp_file)]\n",
    "\n",
    "spectrums = [s for s in spectrums if s is not None]\n",
    "\n",
    "print(\"number of spectrums:\", len(spectrums))"
   ]
  },
  {
   "cell_type": "markdown",
   "metadata": {},
   "source": [
    "### Convert the spectra to Spectrum documents"
   ]
  },
  {
   "cell_type": "code",
   "execution_count": 24,
   "metadata": {
    "scrolled": true
   },
   "outputs": [
    {
     "name": "stdout",
     "output_type": "stream",
     "text": [
      "['peak@51.0', 'peak@55.0', 'peak@57.0', 'peak@58.0', 'peak@59.0', 'peak@60.0', 'peak@61.0', 'peak@62.0', 'peak@63.0', 'peak@66.0', 'peak@68.0', 'peak@70.0', 'peak@72.0', 'peak@73.0', 'peak@74.0', 'peak@75.0', 'peak@76.0', 'peak@78.0', 'peak@80.0', 'peak@81.0', 'peak@82.0', 'peak@83.0', 'peak@86.0', 'peak@87.0', 'peak@92.0', 'peak@93.0', 'peak@94.0', 'peak@98.0', 'peak@99.0', 'peak@100.0', 'peak@104.0', 'peak@107.0', 'peak@108.0', 'peak@110.0', 'peak@112.0', 'peak@113.0', 'peak@115.0', 'peak@116.0', 'peak@120.0', 'peak@122.0', 'peak@123.0', 'peak@124.0', 'peak@125.0', 'peak@126.0', 'peak@134.0', 'peak@135.0', 'peak@137.0', 'peak@147.0', 'peak@149.0', 'peak@150.0', 'peak@151.0', 'peak@159.0', 'peak@162.0', 'peak@163.0', 'peak@173.0', 'peak@174.0', 'peak@175.0', 'peak@177.0', 'peak@187.0', 'peak@188.0', 'peak@189.0', 'peak@190.0', 'peak@191.0', 'peak@198.0', 'peak@199.0', 'peak@200.0', 'peak@201.0', 'peak@202.0', 'peak@203.0', 'peak@207.0', 'peak@214.0', 'peak@217.0', 'peak@218.0', 'peak@247.0', 'peak@248.0']\n"
     ]
    }
   ],
   "source": [
    "from spec2vec import SpectrumDocument\n",
    "\n",
    "reference_documents = [SpectrumDocument(s) for s in spectrums]\n",
    "\n",
    "print(reference_documents[0])"
   ]
  },
  {
   "cell_type": "markdown",
   "metadata": {},
   "source": [
    "### Train the word2vec model with the Spectrum documents"
   ]
  },
  {
   "cell_type": "code",
   "execution_count": 25,
   "metadata": {},
   "outputs": [
    {
     "name": "stdout",
     "output_type": "stream",
     "text": [
      "The value of workers is set from 4 (default) to 2\n",
      "  Epoch 1 of 30.Change in loss after epoch 1: 630247.5625\n",
      "  Epoch 2 of 30.Change in loss after epoch 2: 582928.4375\n",
      "  Epoch 3 of 30.Change in loss after epoch 3: 553430.375\n",
      "  Epoch 4 of 30.Change in loss after epoch 4: 523650.625\n",
      "  Epoch 5 of 30.Change in loss after epoch 5: 478426.75\n",
      "  Epoch 6 of 30.Change in loss after epoch 6: 471096.75\n",
      "  Epoch 7 of 30.Change in loss after epoch 7: 473565.5\n",
      "  Epoch 8 of 30.Change in loss after epoch 8: 472290.5\n",
      "  Epoch 9 of 30.Change in loss after epoch 9: 441157.0\n",
      "  Epoch 10 of 30.Change in loss after epoch 10: 434242.5\n",
      "Saving model with name: references_iter_10.model\n",
      "  Epoch 11 of 30.Change in loss after epoch 11: 425502.5\n",
      "  Epoch 12 of 30.Change in loss after epoch 12: 438653.0\n",
      "  Epoch 13 of 30.Change in loss after epoch 13: 439195.5\n",
      "  Epoch 14 of 30.Change in loss after epoch 14: 437625.0\n",
      "  Epoch 15 of 30.Change in loss after epoch 15: 414303.0\n",
      "  Epoch 16 of 30.Change in loss after epoch 16: 433121.0\n",
      "  Epoch 17 of 30.Change in loss after epoch 17: 421399.0\n",
      "  Epoch 18 of 30.Change in loss after epoch 18: 409709.0\n",
      "  Epoch 19 of 30.Change in loss after epoch 19: 377457.0\n",
      "  Epoch 20 of 30.Change in loss after epoch 20: 385028.0\n",
      "Saving model with name: references_iter_20.model\n",
      "  Epoch 21 of 30.Change in loss after epoch 21: 374581.0\n",
      "  Epoch 22 of 30.Change in loss after epoch 22: 391881.0\n",
      "  Epoch 23 of 30.Change in loss after epoch 23: 393635.0\n",
      "  Epoch 24 of 30.Change in loss after epoch 24: 397790.0\n",
      "  Epoch 25 of 30.Change in loss after epoch 25: 385531.0\n",
      "  Epoch 26 of 30.Change in loss after epoch 26: 379698.0\n",
      "  Epoch 27 of 30.Change in loss after epoch 27: 397754.0\n",
      "  Epoch 28 of 30.Change in loss after epoch 28: 386559.0\n",
      "  Epoch 29 of 30.Change in loss after epoch 29: 370116.0\n",
      "  Epoch 30 of 30.Change in loss after epoch 30: 376059.0\n",
      "Saving model with name: references.model\n"
     ]
    }
   ],
   "source": [
    "from spec2vec.model_building import train_new_word2vec_model\n",
    "\n",
    "model_file = \"references.model\"\n",
    "model = train_new_word2vec_model(reference_documents, filename=model_file, iterations=[10, 20, 30], \n",
    "                                workers=2, progress_logger=True)"
   ]
  }
 ],
 "metadata": {
  "kernelspec": {
   "display_name": "Python 3",
   "language": "python",
   "name": "python3"
  },
  "language_info": {
   "codemirror_mode": {
    "name": "ipython",
    "version": 3
   },
   "file_extension": ".py",
   "mimetype": "text/x-python",
   "name": "python",
   "nbconvert_exporter": "python",
   "pygments_lexer": "ipython3",
   "version": "3.7.7"
  }
 },
 "nbformat": 4,
 "nbformat_minor": 4
}
